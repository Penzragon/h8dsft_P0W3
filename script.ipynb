{
 "cells": [
  {
   "cell_type": "markdown",
   "metadata": {},
   "source": [
    "# Hacktiv8 Phase 0: Graded Challenge 3\n",
    "\n",
    "---\n",
    "\n",
    "Graded Challenge ini dibuat guna mengevaluasi pembelajaran pada Hacktiv8 Data Science Fulltime Program khususnya pada Practical Statistics."
   ]
  },
  {
   "cell_type": "markdown",
   "metadata": {},
   "source": [
    "## Introduction"
   ]
  },
  {
   "cell_type": "markdown",
   "metadata": {},
   "source": [
    "By [Rifky Aliffa](https://github.com/Penzragon)\n",
    "\n",
    "![Kickstarter](https://i.imgur.com/mN5a9eh.png)"
   ]
  },
  {
   "cell_type": "markdown",
   "metadata": {},
   "source": [
    "### Dataset\n",
    "\n",
    "Data yang digunakan adalah dataset yang berisi project yang dikumpulkan dari [Kickstarter Platform](https://www.kickstarter.com/). Dataset dapat dilihat di [Kaggle](https://www.kaggle.com/kemical/kickstarter-projects?select=ks-projects-201801.csv).\n",
    "\n",
    "Kolom pada dataset cukup jelas, kecuali beberapa kolom berikut:\n",
    "\n",
    "- usd pledged: hasil konversi dari kolom `pledged` dalam bentuk USD (konversi dilakukan oleh [Kickstarter](https://www.kickstarter.com/))\n",
    "- usd_pledged_real: hasil konversi dari kolom `pledged` dalam bentuk USD (konversi dari [Fixer.io API](https://fixer.io/))\n",
    "- usd_goal_real: hasil konversi dari kolom `goal` dalam bentuk USD (konversi dari [Fixer.io API](https://fixer.io/))"
   ]
  },
  {
   "cell_type": "markdown",
   "metadata": {},
   "source": [
    "### Objective\n",
    "\n",
    "Tujuan yang ingin dicapai dalam project ini adalah untuk mengetahui apakah kategori sebuah project mempengaruhi kesuksesannya dengan menggunakan dataset yang ada."
   ]
  },
  {
   "cell_type": "markdown",
   "metadata": {},
   "source": [
    "## Import Library"
   ]
  },
  {
   "cell_type": "markdown",
   "metadata": {},
   "source": [
    "Mengimport semua library yang akan digunakan, dalam project ini menggunakan **5** library yaitu **Pandas**, **NumPy**, **SciPy**, **Matplotlib**, dan **Seaborn**."
   ]
  },
  {
   "cell_type": "code",
   "execution_count": 2,
   "metadata": {},
   "outputs": [],
   "source": [
    "import pandas as pd\n",
    "import numpy as np\n",
    "from scipy import stats\n",
    "import matplotlib.pyplot as plt\n",
    "import seaborn as sns"
   ]
  },
  {
   "cell_type": "markdown",
   "metadata": {},
   "source": [
    "## Data Loading"
   ]
  },
  {
   "cell_type": "markdown",
   "metadata": {},
   "source": [
    "Membuat dataframe dari file `ks-projects-201801.csv`."
   ]
  },
  {
   "cell_type": "code",
   "execution_count": 3,
   "metadata": {},
   "outputs": [],
   "source": [
    "projects = pd.read_csv('dataset/ks-projects-201801.csv')"
   ]
  },
  {
   "cell_type": "markdown",
   "metadata": {},
   "source": [
    "Melihat 5 baris teratas dari dataframe projects."
   ]
  },
  {
   "cell_type": "code",
   "execution_count": 4,
   "metadata": {},
   "outputs": [
    {
     "data": {
      "text/html": [
       "<div>\n",
       "<style scoped>\n",
       "    .dataframe tbody tr th:only-of-type {\n",
       "        vertical-align: middle;\n",
       "    }\n",
       "\n",
       "    .dataframe tbody tr th {\n",
       "        vertical-align: top;\n",
       "    }\n",
       "\n",
       "    .dataframe thead th {\n",
       "        text-align: right;\n",
       "    }\n",
       "</style>\n",
       "<table border=\"1\" class=\"dataframe\">\n",
       "  <thead>\n",
       "    <tr style=\"text-align: right;\">\n",
       "      <th></th>\n",
       "      <th>ID</th>\n",
       "      <th>name</th>\n",
       "      <th>category</th>\n",
       "      <th>main_category</th>\n",
       "      <th>currency</th>\n",
       "      <th>deadline</th>\n",
       "      <th>goal</th>\n",
       "      <th>launched</th>\n",
       "      <th>pledged</th>\n",
       "      <th>state</th>\n",
       "      <th>backers</th>\n",
       "      <th>country</th>\n",
       "      <th>usd pledged</th>\n",
       "      <th>usd_pledged_real</th>\n",
       "      <th>usd_goal_real</th>\n",
       "    </tr>\n",
       "  </thead>\n",
       "  <tbody>\n",
       "    <tr>\n",
       "      <th>0</th>\n",
       "      <td>1000002330</td>\n",
       "      <td>The Songs of Adelaide &amp; Abullah</td>\n",
       "      <td>Poetry</td>\n",
       "      <td>Publishing</td>\n",
       "      <td>GBP</td>\n",
       "      <td>2015-10-09</td>\n",
       "      <td>1000.0</td>\n",
       "      <td>2015-08-11 12:12:28</td>\n",
       "      <td>0.0</td>\n",
       "      <td>failed</td>\n",
       "      <td>0</td>\n",
       "      <td>GB</td>\n",
       "      <td>0.0</td>\n",
       "      <td>0.0</td>\n",
       "      <td>1533.95</td>\n",
       "    </tr>\n",
       "    <tr>\n",
       "      <th>1</th>\n",
       "      <td>1000003930</td>\n",
       "      <td>Greeting From Earth: ZGAC Arts Capsule For ET</td>\n",
       "      <td>Narrative Film</td>\n",
       "      <td>Film &amp; Video</td>\n",
       "      <td>USD</td>\n",
       "      <td>2017-11-01</td>\n",
       "      <td>30000.0</td>\n",
       "      <td>2017-09-02 04:43:57</td>\n",
       "      <td>2421.0</td>\n",
       "      <td>failed</td>\n",
       "      <td>15</td>\n",
       "      <td>US</td>\n",
       "      <td>100.0</td>\n",
       "      <td>2421.0</td>\n",
       "      <td>30000.00</td>\n",
       "    </tr>\n",
       "    <tr>\n",
       "      <th>2</th>\n",
       "      <td>1000004038</td>\n",
       "      <td>Where is Hank?</td>\n",
       "      <td>Narrative Film</td>\n",
       "      <td>Film &amp; Video</td>\n",
       "      <td>USD</td>\n",
       "      <td>2013-02-26</td>\n",
       "      <td>45000.0</td>\n",
       "      <td>2013-01-12 00:20:50</td>\n",
       "      <td>220.0</td>\n",
       "      <td>failed</td>\n",
       "      <td>3</td>\n",
       "      <td>US</td>\n",
       "      <td>220.0</td>\n",
       "      <td>220.0</td>\n",
       "      <td>45000.00</td>\n",
       "    </tr>\n",
       "    <tr>\n",
       "      <th>3</th>\n",
       "      <td>1000007540</td>\n",
       "      <td>ToshiCapital Rekordz Needs Help to Complete Album</td>\n",
       "      <td>Music</td>\n",
       "      <td>Music</td>\n",
       "      <td>USD</td>\n",
       "      <td>2012-04-16</td>\n",
       "      <td>5000.0</td>\n",
       "      <td>2012-03-17 03:24:11</td>\n",
       "      <td>1.0</td>\n",
       "      <td>failed</td>\n",
       "      <td>1</td>\n",
       "      <td>US</td>\n",
       "      <td>1.0</td>\n",
       "      <td>1.0</td>\n",
       "      <td>5000.00</td>\n",
       "    </tr>\n",
       "    <tr>\n",
       "      <th>4</th>\n",
       "      <td>1000011046</td>\n",
       "      <td>Community Film Project: The Art of Neighborhoo...</td>\n",
       "      <td>Film &amp; Video</td>\n",
       "      <td>Film &amp; Video</td>\n",
       "      <td>USD</td>\n",
       "      <td>2015-08-29</td>\n",
       "      <td>19500.0</td>\n",
       "      <td>2015-07-04 08:35:03</td>\n",
       "      <td>1283.0</td>\n",
       "      <td>canceled</td>\n",
       "      <td>14</td>\n",
       "      <td>US</td>\n",
       "      <td>1283.0</td>\n",
       "      <td>1283.0</td>\n",
       "      <td>19500.00</td>\n",
       "    </tr>\n",
       "  </tbody>\n",
       "</table>\n",
       "</div>"
      ],
      "text/plain": [
       "           ID                                               name  \\\n",
       "0  1000002330                    The Songs of Adelaide & Abullah   \n",
       "1  1000003930      Greeting From Earth: ZGAC Arts Capsule For ET   \n",
       "2  1000004038                                     Where is Hank?   \n",
       "3  1000007540  ToshiCapital Rekordz Needs Help to Complete Album   \n",
       "4  1000011046  Community Film Project: The Art of Neighborhoo...   \n",
       "\n",
       "         category main_category currency    deadline     goal  \\\n",
       "0          Poetry    Publishing      GBP  2015-10-09   1000.0   \n",
       "1  Narrative Film  Film & Video      USD  2017-11-01  30000.0   \n",
       "2  Narrative Film  Film & Video      USD  2013-02-26  45000.0   \n",
       "3           Music         Music      USD  2012-04-16   5000.0   \n",
       "4    Film & Video  Film & Video      USD  2015-08-29  19500.0   \n",
       "\n",
       "              launched  pledged     state  backers country  usd pledged  \\\n",
       "0  2015-08-11 12:12:28      0.0    failed        0      GB          0.0   \n",
       "1  2017-09-02 04:43:57   2421.0    failed       15      US        100.0   \n",
       "2  2013-01-12 00:20:50    220.0    failed        3      US        220.0   \n",
       "3  2012-03-17 03:24:11      1.0    failed        1      US          1.0   \n",
       "4  2015-07-04 08:35:03   1283.0  canceled       14      US       1283.0   \n",
       "\n",
       "   usd_pledged_real  usd_goal_real  \n",
       "0               0.0        1533.95  \n",
       "1            2421.0       30000.00  \n",
       "2             220.0       45000.00  \n",
       "3               1.0        5000.00  \n",
       "4            1283.0       19500.00  "
      ]
     },
     "execution_count": 4,
     "metadata": {},
     "output_type": "execute_result"
    }
   ],
   "source": [
    "projects.head()"
   ]
  },
  {
   "cell_type": "markdown",
   "metadata": {},
   "source": [
    "### Data Characteristics"
   ]
  },
  {
   "cell_type": "code",
   "execution_count": 5,
   "metadata": {},
   "outputs": [
    {
     "data": {
      "text/plain": [
       "(378661, 15)"
      ]
     },
     "execution_count": 5,
     "metadata": {},
     "output_type": "execute_result"
    }
   ],
   "source": [
    "projects.shape"
   ]
  },
  {
   "cell_type": "markdown",
   "metadata": {},
   "source": [
    "Dataset ini terdiri dari 378661 baris dan 15 kolom."
   ]
  },
  {
   "cell_type": "code",
   "execution_count": 6,
   "metadata": {},
   "outputs": [
    {
     "name": "stdout",
     "output_type": "stream",
     "text": [
      "<class 'pandas.core.frame.DataFrame'>\n",
      "RangeIndex: 378661 entries, 0 to 378660\n",
      "Data columns (total 15 columns):\n",
      " #   Column            Non-Null Count   Dtype  \n",
      "---  ------            --------------   -----  \n",
      " 0   ID                378661 non-null  int64  \n",
      " 1   name              378657 non-null  object \n",
      " 2   category          378661 non-null  object \n",
      " 3   main_category     378661 non-null  object \n",
      " 4   currency          378661 non-null  object \n",
      " 5   deadline          378661 non-null  object \n",
      " 6   goal              378661 non-null  float64\n",
      " 7   launched          378661 non-null  object \n",
      " 8   pledged           378661 non-null  float64\n",
      " 9   state             378661 non-null  object \n",
      " 10  backers           378661 non-null  int64  \n",
      " 11  country           378661 non-null  object \n",
      " 12  usd pledged       374864 non-null  float64\n",
      " 13  usd_pledged_real  378661 non-null  float64\n",
      " 14  usd_goal_real     378661 non-null  float64\n",
      "dtypes: float64(5), int64(2), object(8)\n",
      "memory usage: 43.3+ MB\n"
     ]
    }
   ],
   "source": [
    "projects.info()"
   ]
  },
  {
   "cell_type": "markdown",
   "metadata": {},
   "source": [
    "Dataset ini terdiri dari:\n",
    "- 5 kolom dengan tipe float\n",
    "- 2 kolom dengan tipe integer\n",
    "- 8 kolom dengan tipe object\n",
    "\n",
    "kolom `deadline` dan `launched` nantinya akan diubah menjadi kolom dengan tipe data **datetime**."
   ]
  },
  {
   "cell_type": "code",
   "execution_count": 7,
   "metadata": {},
   "outputs": [
    {
     "data": {
      "text/html": [
       "<div>\n",
       "<style scoped>\n",
       "    .dataframe tbody tr th:only-of-type {\n",
       "        vertical-align: middle;\n",
       "    }\n",
       "\n",
       "    .dataframe tbody tr th {\n",
       "        vertical-align: top;\n",
       "    }\n",
       "\n",
       "    .dataframe thead th {\n",
       "        text-align: right;\n",
       "    }\n",
       "</style>\n",
       "<table border=\"1\" class=\"dataframe\">\n",
       "  <thead>\n",
       "    <tr style=\"text-align: right;\">\n",
       "      <th></th>\n",
       "      <th>count</th>\n",
       "      <th>mean</th>\n",
       "      <th>std</th>\n",
       "      <th>min</th>\n",
       "      <th>25%</th>\n",
       "      <th>50%</th>\n",
       "      <th>75%</th>\n",
       "      <th>max</th>\n",
       "    </tr>\n",
       "  </thead>\n",
       "  <tbody>\n",
       "    <tr>\n",
       "      <th>ID</th>\n",
       "      <td>378661.0</td>\n",
       "      <td>1.074731e+09</td>\n",
       "      <td>6.190862e+08</td>\n",
       "      <td>5971.00</td>\n",
       "      <td>5.382635e+08</td>\n",
       "      <td>1.075276e+09</td>\n",
       "      <td>1.610149e+09</td>\n",
       "      <td>2.147476e+09</td>\n",
       "    </tr>\n",
       "    <tr>\n",
       "      <th>goal</th>\n",
       "      <td>378661.0</td>\n",
       "      <td>4.908079e+04</td>\n",
       "      <td>1.183391e+06</td>\n",
       "      <td>0.01</td>\n",
       "      <td>2.000000e+03</td>\n",
       "      <td>5.200000e+03</td>\n",
       "      <td>1.600000e+04</td>\n",
       "      <td>1.000000e+08</td>\n",
       "    </tr>\n",
       "    <tr>\n",
       "      <th>pledged</th>\n",
       "      <td>378661.0</td>\n",
       "      <td>9.682979e+03</td>\n",
       "      <td>9.563601e+04</td>\n",
       "      <td>0.00</td>\n",
       "      <td>3.000000e+01</td>\n",
       "      <td>6.200000e+02</td>\n",
       "      <td>4.076000e+03</td>\n",
       "      <td>2.033899e+07</td>\n",
       "    </tr>\n",
       "    <tr>\n",
       "      <th>backers</th>\n",
       "      <td>378661.0</td>\n",
       "      <td>1.056175e+02</td>\n",
       "      <td>9.071850e+02</td>\n",
       "      <td>0.00</td>\n",
       "      <td>2.000000e+00</td>\n",
       "      <td>1.200000e+01</td>\n",
       "      <td>5.600000e+01</td>\n",
       "      <td>2.193820e+05</td>\n",
       "    </tr>\n",
       "    <tr>\n",
       "      <th>usd pledged</th>\n",
       "      <td>374864.0</td>\n",
       "      <td>7.036729e+03</td>\n",
       "      <td>7.863975e+04</td>\n",
       "      <td>0.00</td>\n",
       "      <td>1.698000e+01</td>\n",
       "      <td>3.947200e+02</td>\n",
       "      <td>3.034090e+03</td>\n",
       "      <td>2.033899e+07</td>\n",
       "    </tr>\n",
       "    <tr>\n",
       "      <th>usd_pledged_real</th>\n",
       "      <td>378661.0</td>\n",
       "      <td>9.058924e+03</td>\n",
       "      <td>9.097334e+04</td>\n",
       "      <td>0.00</td>\n",
       "      <td>3.100000e+01</td>\n",
       "      <td>6.243300e+02</td>\n",
       "      <td>4.050000e+03</td>\n",
       "      <td>2.033899e+07</td>\n",
       "    </tr>\n",
       "    <tr>\n",
       "      <th>usd_goal_real</th>\n",
       "      <td>378661.0</td>\n",
       "      <td>4.545440e+04</td>\n",
       "      <td>1.152950e+06</td>\n",
       "      <td>0.01</td>\n",
       "      <td>2.000000e+03</td>\n",
       "      <td>5.500000e+03</td>\n",
       "      <td>1.550000e+04</td>\n",
       "      <td>1.663614e+08</td>\n",
       "    </tr>\n",
       "  </tbody>\n",
       "</table>\n",
       "</div>"
      ],
      "text/plain": [
       "                     count          mean           std      min           25%  \\\n",
       "ID                378661.0  1.074731e+09  6.190862e+08  5971.00  5.382635e+08   \n",
       "goal              378661.0  4.908079e+04  1.183391e+06     0.01  2.000000e+03   \n",
       "pledged           378661.0  9.682979e+03  9.563601e+04     0.00  3.000000e+01   \n",
       "backers           378661.0  1.056175e+02  9.071850e+02     0.00  2.000000e+00   \n",
       "usd pledged       374864.0  7.036729e+03  7.863975e+04     0.00  1.698000e+01   \n",
       "usd_pledged_real  378661.0  9.058924e+03  9.097334e+04     0.00  3.100000e+01   \n",
       "usd_goal_real     378661.0  4.545440e+04  1.152950e+06     0.01  2.000000e+03   \n",
       "\n",
       "                           50%           75%           max  \n",
       "ID                1.075276e+09  1.610149e+09  2.147476e+09  \n",
       "goal              5.200000e+03  1.600000e+04  1.000000e+08  \n",
       "pledged           6.200000e+02  4.076000e+03  2.033899e+07  \n",
       "backers           1.200000e+01  5.600000e+01  2.193820e+05  \n",
       "usd pledged       3.947200e+02  3.034090e+03  2.033899e+07  \n",
       "usd_pledged_real  6.243300e+02  4.050000e+03  2.033899e+07  \n",
       "usd_goal_real     5.500000e+03  1.550000e+04  1.663614e+08  "
      ]
     },
     "execution_count": 7,
     "metadata": {},
     "output_type": "execute_result"
    }
   ],
   "source": [
    "projects.describe().T"
   ]
  },
  {
   "cell_type": "markdown",
   "metadata": {},
   "source": [
    "Dapat diketahui beberapa kolom memiliki distribusi yang tidak normal (asymmetric distribution). Sebagai contoh kolom `usd_pledged_real` memiliki distribusi **Right-Skewed** karena mean pada kolom tersebut lebih besar dari mediannya."
   ]
  },
  {
   "cell_type": "markdown",
   "metadata": {},
   "source": [
    "## Data Cleansing"
   ]
  },
  {
   "cell_type": "markdown",
   "metadata": {},
   "source": [
    "### Missing Value"
   ]
  },
  {
   "cell_type": "code",
   "execution_count": 8,
   "metadata": {},
   "outputs": [
    {
     "data": {
      "text/plain": [
       "ID                     0\n",
       "name                   4\n",
       "category               0\n",
       "main_category          0\n",
       "currency               0\n",
       "deadline               0\n",
       "goal                   0\n",
       "launched               0\n",
       "pledged                0\n",
       "state                  0\n",
       "backers                0\n",
       "country                0\n",
       "usd pledged         3797\n",
       "usd_pledged_real       0\n",
       "usd_goal_real          0\n",
       "dtype: int64"
      ]
     },
     "execution_count": 8,
     "metadata": {},
     "output_type": "execute_result"
    }
   ],
   "source": [
    "projects.isna().sum()"
   ]
  },
  {
   "cell_type": "markdown",
   "metadata": {},
   "source": [
    "Terdapat **3797** missing value pada kolom `usd pledged`."
   ]
  },
  {
   "cell_type": "code",
   "execution_count": 9,
   "metadata": {},
   "outputs": [
    {
     "data": {
      "text/plain": [
       "state\n",
       "undefined     3562\n",
       "failed         105\n",
       "successful     105\n",
       "canceled        22\n",
       "suspended        2\n",
       "live             1\n",
       "Name: ID, dtype: int64"
      ]
     },
     "execution_count": 9,
     "metadata": {},
     "output_type": "execute_result"
    }
   ],
   "source": [
    "projects[projects['usd pledged'].isna()].groupby('state').ID.count().sort_values(ascending=False)"
   ]
  },
  {
   "cell_type": "code",
   "execution_count": 10,
   "metadata": {},
   "outputs": [
    {
     "data": {
      "text/plain": [
       "state\n",
       "failed        197719\n",
       "successful    133956\n",
       "canceled       38779\n",
       "undefined       3562\n",
       "live            2799\n",
       "suspended       1846\n",
       "Name: ID, dtype: int64"
      ]
     },
     "execution_count": 10,
     "metadata": {},
     "output_type": "execute_result"
    }
   ],
   "source": [
    "projects.groupby('state').ID.count().sort_values(ascending=False)"
   ]
  },
  {
   "cell_type": "markdown",
   "metadata": {},
   "source": [
    "Dari hasil pencarian missing value ini dapat dilihat seluruh baris yang berstatus **undefined** pada kolom `state` semuanya tidak memiliki value pada kolom `usd pledged`. Maka akan dilakukan penghapusan seluruh baris yang tidak memiliki value pada kolom `usd pledged`."
   ]
  },
  {
   "cell_type": "code",
   "execution_count": 11,
   "metadata": {},
   "outputs": [],
   "source": [
    "projects = projects.dropna()"
   ]
  },
  {
   "cell_type": "code",
   "execution_count": 12,
   "metadata": {},
   "outputs": [
    {
     "data": {
      "text/plain": [
       "ID                  0\n",
       "name                0\n",
       "category            0\n",
       "main_category       0\n",
       "currency            0\n",
       "deadline            0\n",
       "goal                0\n",
       "launched            0\n",
       "pledged             0\n",
       "state               0\n",
       "backers             0\n",
       "country             0\n",
       "usd pledged         0\n",
       "usd_pledged_real    0\n",
       "usd_goal_real       0\n",
       "dtype: int64"
      ]
     },
     "execution_count": 12,
     "metadata": {},
     "output_type": "execute_result"
    }
   ],
   "source": [
    "projects.isna().sum()"
   ]
  },
  {
   "cell_type": "code",
   "execution_count": 13,
   "metadata": {},
   "outputs": [
    {
     "data": {
      "text/plain": [
       "state\n",
       "failed        197611\n",
       "successful    133851\n",
       "canceled       38757\n",
       "live            2798\n",
       "suspended       1843\n",
       "Name: ID, dtype: int64"
      ]
     },
     "execution_count": 13,
     "metadata": {},
     "output_type": "execute_result"
    }
   ],
   "source": [
    "projects.groupby('state').ID.count().sort_values(ascending=False)"
   ]
  },
  {
   "cell_type": "markdown",
   "metadata": {},
   "source": [
    "Setelah dilakukan penghapusan baris yang memiliki missing value, sudah tidak ada lagi status **undefined** (tidak terdefinisi) pada kolom `state`."
   ]
  },
  {
   "cell_type": "markdown",
   "metadata": {},
   "source": [
    "### Column Drop"
   ]
  },
  {
   "cell_type": "code",
   "execution_count": 14,
   "metadata": {},
   "outputs": [
    {
     "name": "stdout",
     "output_type": "stream",
     "text": [
      "Number of unique value in category column: 159\n",
      "Number of unique value in main_category column: 15\n"
     ]
    }
   ],
   "source": [
    "print(f'Number of unique value in category column: {projects.category.nunique()}')\n",
    "print(f'Number of unique value in main_category column: {projects.main_category.nunique()}')"
   ]
  },
  {
   "cell_type": "markdown",
   "metadata": {},
   "source": [
    "Karena jumlah `category` terlalu banyak, maka pada project ini hanya akan menggunakan kolom `main_category` saja. Kolom `goal` dan `pledged` pun sudah dikonversi dalam bentuk USD pada kolom `usd_goal_real` dan `usd_pledged_real` (hasil konversi menggunakan [Fixer.io API](https://fixer.io/)).\n",
    "\n",
    "Maka kolom `category`, `currency`, `goal`, `pledged`, dan `usd pledged` akan dihilangkan."
   ]
  },
  {
   "cell_type": "code",
   "execution_count": 15,
   "metadata": {},
   "outputs": [
    {
     "data": {
      "text/html": [
       "<div>\n",
       "<style scoped>\n",
       "    .dataframe tbody tr th:only-of-type {\n",
       "        vertical-align: middle;\n",
       "    }\n",
       "\n",
       "    .dataframe tbody tr th {\n",
       "        vertical-align: top;\n",
       "    }\n",
       "\n",
       "    .dataframe thead th {\n",
       "        text-align: right;\n",
       "    }\n",
       "</style>\n",
       "<table border=\"1\" class=\"dataframe\">\n",
       "  <thead>\n",
       "    <tr style=\"text-align: right;\">\n",
       "      <th></th>\n",
       "      <th>ID</th>\n",
       "      <th>name</th>\n",
       "      <th>main_category</th>\n",
       "      <th>deadline</th>\n",
       "      <th>launched</th>\n",
       "      <th>state</th>\n",
       "      <th>backers</th>\n",
       "      <th>country</th>\n",
       "      <th>usd_pledged_real</th>\n",
       "      <th>usd_goal_real</th>\n",
       "    </tr>\n",
       "  </thead>\n",
       "  <tbody>\n",
       "    <tr>\n",
       "      <th>0</th>\n",
       "      <td>1000002330</td>\n",
       "      <td>The Songs of Adelaide &amp; Abullah</td>\n",
       "      <td>Publishing</td>\n",
       "      <td>2015-10-09</td>\n",
       "      <td>2015-08-11 12:12:28</td>\n",
       "      <td>failed</td>\n",
       "      <td>0</td>\n",
       "      <td>GB</td>\n",
       "      <td>0.0</td>\n",
       "      <td>1533.95</td>\n",
       "    </tr>\n",
       "    <tr>\n",
       "      <th>1</th>\n",
       "      <td>1000003930</td>\n",
       "      <td>Greeting From Earth: ZGAC Arts Capsule For ET</td>\n",
       "      <td>Film &amp; Video</td>\n",
       "      <td>2017-11-01</td>\n",
       "      <td>2017-09-02 04:43:57</td>\n",
       "      <td>failed</td>\n",
       "      <td>15</td>\n",
       "      <td>US</td>\n",
       "      <td>2421.0</td>\n",
       "      <td>30000.00</td>\n",
       "    </tr>\n",
       "    <tr>\n",
       "      <th>2</th>\n",
       "      <td>1000004038</td>\n",
       "      <td>Where is Hank?</td>\n",
       "      <td>Film &amp; Video</td>\n",
       "      <td>2013-02-26</td>\n",
       "      <td>2013-01-12 00:20:50</td>\n",
       "      <td>failed</td>\n",
       "      <td>3</td>\n",
       "      <td>US</td>\n",
       "      <td>220.0</td>\n",
       "      <td>45000.00</td>\n",
       "    </tr>\n",
       "    <tr>\n",
       "      <th>3</th>\n",
       "      <td>1000007540</td>\n",
       "      <td>ToshiCapital Rekordz Needs Help to Complete Album</td>\n",
       "      <td>Music</td>\n",
       "      <td>2012-04-16</td>\n",
       "      <td>2012-03-17 03:24:11</td>\n",
       "      <td>failed</td>\n",
       "      <td>1</td>\n",
       "      <td>US</td>\n",
       "      <td>1.0</td>\n",
       "      <td>5000.00</td>\n",
       "    </tr>\n",
       "    <tr>\n",
       "      <th>4</th>\n",
       "      <td>1000011046</td>\n",
       "      <td>Community Film Project: The Art of Neighborhoo...</td>\n",
       "      <td>Film &amp; Video</td>\n",
       "      <td>2015-08-29</td>\n",
       "      <td>2015-07-04 08:35:03</td>\n",
       "      <td>canceled</td>\n",
       "      <td>14</td>\n",
       "      <td>US</td>\n",
       "      <td>1283.0</td>\n",
       "      <td>19500.00</td>\n",
       "    </tr>\n",
       "  </tbody>\n",
       "</table>\n",
       "</div>"
      ],
      "text/plain": [
       "           ID                                               name  \\\n",
       "0  1000002330                    The Songs of Adelaide & Abullah   \n",
       "1  1000003930      Greeting From Earth: ZGAC Arts Capsule For ET   \n",
       "2  1000004038                                     Where is Hank?   \n",
       "3  1000007540  ToshiCapital Rekordz Needs Help to Complete Album   \n",
       "4  1000011046  Community Film Project: The Art of Neighborhoo...   \n",
       "\n",
       "  main_category    deadline             launched     state  backers country  \\\n",
       "0    Publishing  2015-10-09  2015-08-11 12:12:28    failed        0      GB   \n",
       "1  Film & Video  2017-11-01  2017-09-02 04:43:57    failed       15      US   \n",
       "2  Film & Video  2013-02-26  2013-01-12 00:20:50    failed        3      US   \n",
       "3         Music  2012-04-16  2012-03-17 03:24:11    failed        1      US   \n",
       "4  Film & Video  2015-08-29  2015-07-04 08:35:03  canceled       14      US   \n",
       "\n",
       "   usd_pledged_real  usd_goal_real  \n",
       "0               0.0        1533.95  \n",
       "1            2421.0       30000.00  \n",
       "2             220.0       45000.00  \n",
       "3               1.0        5000.00  \n",
       "4            1283.0       19500.00  "
      ]
     },
     "execution_count": 15,
     "metadata": {},
     "output_type": "execute_result"
    }
   ],
   "source": [
    "projects = projects.drop(columns=['category', 'currency', 'goal', 'pledged', 'usd pledged'])\n",
    "projects.head()"
   ]
  },
  {
   "cell_type": "markdown",
   "metadata": {},
   "source": [
    "Setelah dilakukan penghapusan kolom sudah tidak ada lagi kolom `category`, `currency`, `goal`, `pledged`, dan `usd pledged`."
   ]
  },
  {
   "cell_type": "markdown",
   "metadata": {},
   "source": [
    "### Column Rename"
   ]
  },
  {
   "cell_type": "markdown",
   "metadata": {},
   "source": [
    "Pada bagian ini akan dilakukan perubahan nama kolom dataframe untuk memudahkan pemanggilan kolom."
   ]
  },
  {
   "cell_type": "code",
   "execution_count": 16,
   "metadata": {},
   "outputs": [],
   "source": [
    "old_names = list(projects.columns) # Membuat list dari nama kolom dataframe\n",
    "new_names = ['ID', 'name', 'category', 'deadline', 'launched', 'state', 'backers', 'country', 'pledged', 'goal'] # membuat list nama kolom baru untuk dataframe"
   ]
  },
  {
   "cell_type": "markdown",
   "metadata": {},
   "source": [
    "Melakukan perubahan nama kolom dataframe."
   ]
  },
  {
   "cell_type": "code",
   "execution_count": 17,
   "metadata": {},
   "outputs": [],
   "source": [
    "projects = projects.rename(columns=dict(zip(old_names, new_names)))"
   ]
  },
  {
   "cell_type": "markdown",
   "metadata": {},
   "source": [
    "Bentuk dataframe setelah dilakukan perubahan nama kolom."
   ]
  },
  {
   "cell_type": "code",
   "execution_count": 18,
   "metadata": {},
   "outputs": [
    {
     "data": {
      "text/html": [
       "<div>\n",
       "<style scoped>\n",
       "    .dataframe tbody tr th:only-of-type {\n",
       "        vertical-align: middle;\n",
       "    }\n",
       "\n",
       "    .dataframe tbody tr th {\n",
       "        vertical-align: top;\n",
       "    }\n",
       "\n",
       "    .dataframe thead th {\n",
       "        text-align: right;\n",
       "    }\n",
       "</style>\n",
       "<table border=\"1\" class=\"dataframe\">\n",
       "  <thead>\n",
       "    <tr style=\"text-align: right;\">\n",
       "      <th></th>\n",
       "      <th>ID</th>\n",
       "      <th>name</th>\n",
       "      <th>category</th>\n",
       "      <th>deadline</th>\n",
       "      <th>launched</th>\n",
       "      <th>state</th>\n",
       "      <th>backers</th>\n",
       "      <th>country</th>\n",
       "      <th>pledged</th>\n",
       "      <th>goal</th>\n",
       "    </tr>\n",
       "  </thead>\n",
       "  <tbody>\n",
       "    <tr>\n",
       "      <th>0</th>\n",
       "      <td>1000002330</td>\n",
       "      <td>The Songs of Adelaide &amp; Abullah</td>\n",
       "      <td>Publishing</td>\n",
       "      <td>2015-10-09</td>\n",
       "      <td>2015-08-11 12:12:28</td>\n",
       "      <td>failed</td>\n",
       "      <td>0</td>\n",
       "      <td>GB</td>\n",
       "      <td>0.0</td>\n",
       "      <td>1533.95</td>\n",
       "    </tr>\n",
       "    <tr>\n",
       "      <th>1</th>\n",
       "      <td>1000003930</td>\n",
       "      <td>Greeting From Earth: ZGAC Arts Capsule For ET</td>\n",
       "      <td>Film &amp; Video</td>\n",
       "      <td>2017-11-01</td>\n",
       "      <td>2017-09-02 04:43:57</td>\n",
       "      <td>failed</td>\n",
       "      <td>15</td>\n",
       "      <td>US</td>\n",
       "      <td>2421.0</td>\n",
       "      <td>30000.00</td>\n",
       "    </tr>\n",
       "    <tr>\n",
       "      <th>2</th>\n",
       "      <td>1000004038</td>\n",
       "      <td>Where is Hank?</td>\n",
       "      <td>Film &amp; Video</td>\n",
       "      <td>2013-02-26</td>\n",
       "      <td>2013-01-12 00:20:50</td>\n",
       "      <td>failed</td>\n",
       "      <td>3</td>\n",
       "      <td>US</td>\n",
       "      <td>220.0</td>\n",
       "      <td>45000.00</td>\n",
       "    </tr>\n",
       "    <tr>\n",
       "      <th>3</th>\n",
       "      <td>1000007540</td>\n",
       "      <td>ToshiCapital Rekordz Needs Help to Complete Album</td>\n",
       "      <td>Music</td>\n",
       "      <td>2012-04-16</td>\n",
       "      <td>2012-03-17 03:24:11</td>\n",
       "      <td>failed</td>\n",
       "      <td>1</td>\n",
       "      <td>US</td>\n",
       "      <td>1.0</td>\n",
       "      <td>5000.00</td>\n",
       "    </tr>\n",
       "    <tr>\n",
       "      <th>4</th>\n",
       "      <td>1000011046</td>\n",
       "      <td>Community Film Project: The Art of Neighborhoo...</td>\n",
       "      <td>Film &amp; Video</td>\n",
       "      <td>2015-08-29</td>\n",
       "      <td>2015-07-04 08:35:03</td>\n",
       "      <td>canceled</td>\n",
       "      <td>14</td>\n",
       "      <td>US</td>\n",
       "      <td>1283.0</td>\n",
       "      <td>19500.00</td>\n",
       "    </tr>\n",
       "  </tbody>\n",
       "</table>\n",
       "</div>"
      ],
      "text/plain": [
       "           ID                                               name  \\\n",
       "0  1000002330                    The Songs of Adelaide & Abullah   \n",
       "1  1000003930      Greeting From Earth: ZGAC Arts Capsule For ET   \n",
       "2  1000004038                                     Where is Hank?   \n",
       "3  1000007540  ToshiCapital Rekordz Needs Help to Complete Album   \n",
       "4  1000011046  Community Film Project: The Art of Neighborhoo...   \n",
       "\n",
       "       category    deadline             launched     state  backers country  \\\n",
       "0    Publishing  2015-10-09  2015-08-11 12:12:28    failed        0      GB   \n",
       "1  Film & Video  2017-11-01  2017-09-02 04:43:57    failed       15      US   \n",
       "2  Film & Video  2013-02-26  2013-01-12 00:20:50    failed        3      US   \n",
       "3         Music  2012-04-16  2012-03-17 03:24:11    failed        1      US   \n",
       "4  Film & Video  2015-08-29  2015-07-04 08:35:03  canceled       14      US   \n",
       "\n",
       "   pledged      goal  \n",
       "0      0.0   1533.95  \n",
       "1   2421.0  30000.00  \n",
       "2    220.0  45000.00  \n",
       "3      1.0   5000.00  \n",
       "4   1283.0  19500.00  "
      ]
     },
     "execution_count": 18,
     "metadata": {},
     "output_type": "execute_result"
    }
   ],
   "source": [
    "projects.head()"
   ]
  },
  {
   "cell_type": "markdown",
   "metadata": {},
   "source": [
    "## Data Preprocessing"
   ]
  },
  {
   "cell_type": "markdown",
   "metadata": {},
   "source": [
    "Merubah kolom `deadline` dan `launched` kedalam bentuk datetime. "
   ]
  },
  {
   "cell_type": "code",
   "execution_count": 19,
   "metadata": {},
   "outputs": [],
   "source": [
    "projects['deadline'] = pd.to_datetime(projects.deadline)\n",
    "projects['launched'] = pd.to_datetime(projects.launched)"
   ]
  },
  {
   "cell_type": "code",
   "execution_count": 20,
   "metadata": {},
   "outputs": [
    {
     "name": "stdout",
     "output_type": "stream",
     "text": [
      "<class 'pandas.core.frame.DataFrame'>\n",
      "Int64Index: 374860 entries, 0 to 378660\n",
      "Data columns (total 10 columns):\n",
      " #   Column    Non-Null Count   Dtype         \n",
      "---  ------    --------------   -----         \n",
      " 0   ID        374860 non-null  int64         \n",
      " 1   name      374860 non-null  object        \n",
      " 2   category  374860 non-null  object        \n",
      " 3   deadline  374860 non-null  datetime64[ns]\n",
      " 4   launched  374860 non-null  datetime64[ns]\n",
      " 5   state     374860 non-null  object        \n",
      " 6   backers   374860 non-null  int64         \n",
      " 7   country   374860 non-null  object        \n",
      " 8   pledged   374860 non-null  float64       \n",
      " 9   goal      374860 non-null  float64       \n",
      "dtypes: datetime64[ns](2), float64(2), int64(2), object(4)\n",
      "memory usage: 31.5+ MB\n"
     ]
    }
   ],
   "source": [
    "projects.info()"
   ]
  },
  {
   "cell_type": "markdown",
   "metadata": {},
   "source": [
    "Setelah dilakukan perubahan tipe data pada kolom `deadline` dan `lauched` sekarang kolom tersebut memiliki tipe data datetime."
   ]
  },
  {
   "cell_type": "markdown",
   "metadata": {},
   "source": [
    "Membuat kolom baru `is_successful` yang akan bertipe boolean, dimana:\n",
    "- **True** jika state sama dengan **successful** atau **live**.\n",
    "- **False** jika state tidak sama dengan **successful** atau **live**."
   ]
  },
  {
   "cell_type": "code",
   "execution_count": 21,
   "metadata": {},
   "outputs": [],
   "source": [
    "projects['is_successful'] = projects.apply(lambda x: x.state == 'successful' or x.state == 'live', axis=1)"
   ]
  },
  {
   "cell_type": "code",
   "execution_count": 22,
   "metadata": {},
   "outputs": [
    {
     "data": {
      "text/html": [
       "<div>\n",
       "<style scoped>\n",
       "    .dataframe tbody tr th:only-of-type {\n",
       "        vertical-align: middle;\n",
       "    }\n",
       "\n",
       "    .dataframe tbody tr th {\n",
       "        vertical-align: top;\n",
       "    }\n",
       "\n",
       "    .dataframe thead th {\n",
       "        text-align: right;\n",
       "    }\n",
       "</style>\n",
       "<table border=\"1\" class=\"dataframe\">\n",
       "  <thead>\n",
       "    <tr style=\"text-align: right;\">\n",
       "      <th></th>\n",
       "      <th>ID</th>\n",
       "      <th>name</th>\n",
       "      <th>category</th>\n",
       "      <th>deadline</th>\n",
       "      <th>launched</th>\n",
       "      <th>state</th>\n",
       "      <th>backers</th>\n",
       "      <th>country</th>\n",
       "      <th>pledged</th>\n",
       "      <th>goal</th>\n",
       "      <th>is_successful</th>\n",
       "    </tr>\n",
       "  </thead>\n",
       "  <tbody>\n",
       "    <tr>\n",
       "      <th>5</th>\n",
       "      <td>1000014025</td>\n",
       "      <td>Monarch Espresso Bar</td>\n",
       "      <td>Food</td>\n",
       "      <td>2016-04-01</td>\n",
       "      <td>2016-02-26 13:38:27</td>\n",
       "      <td>successful</td>\n",
       "      <td>224</td>\n",
       "      <td>US</td>\n",
       "      <td>52375.00</td>\n",
       "      <td>50000.00</td>\n",
       "      <td>True</td>\n",
       "    </tr>\n",
       "    <tr>\n",
       "      <th>6</th>\n",
       "      <td>1000023410</td>\n",
       "      <td>Support Solar Roasted Coffee &amp; Green Energy!  ...</td>\n",
       "      <td>Food</td>\n",
       "      <td>2014-12-21</td>\n",
       "      <td>2014-12-01 18:30:44</td>\n",
       "      <td>successful</td>\n",
       "      <td>16</td>\n",
       "      <td>US</td>\n",
       "      <td>1205.00</td>\n",
       "      <td>1000.00</td>\n",
       "      <td>True</td>\n",
       "    </tr>\n",
       "    <tr>\n",
       "      <th>11</th>\n",
       "      <td>100005484</td>\n",
       "      <td>Lisa Lim New CD!</td>\n",
       "      <td>Music</td>\n",
       "      <td>2013-04-08</td>\n",
       "      <td>2013-03-09 06:42:58</td>\n",
       "      <td>successful</td>\n",
       "      <td>100</td>\n",
       "      <td>US</td>\n",
       "      <td>12700.00</td>\n",
       "      <td>12500.00</td>\n",
       "      <td>True</td>\n",
       "    </tr>\n",
       "    <tr>\n",
       "      <th>14</th>\n",
       "      <td>1000057089</td>\n",
       "      <td>Tombstone: Old West tabletop game and miniatur...</td>\n",
       "      <td>Games</td>\n",
       "      <td>2017-05-03</td>\n",
       "      <td>2017-04-05 19:44:18</td>\n",
       "      <td>successful</td>\n",
       "      <td>761</td>\n",
       "      <td>GB</td>\n",
       "      <td>121857.33</td>\n",
       "      <td>6469.73</td>\n",
       "      <td>True</td>\n",
       "    </tr>\n",
       "    <tr>\n",
       "      <th>18</th>\n",
       "      <td>1000070642</td>\n",
       "      <td>Mike Corey's Darkness &amp; Light Album</td>\n",
       "      <td>Music</td>\n",
       "      <td>2012-08-17</td>\n",
       "      <td>2012-08-02 14:11:32</td>\n",
       "      <td>successful</td>\n",
       "      <td>7</td>\n",
       "      <td>US</td>\n",
       "      <td>250.00</td>\n",
       "      <td>250.00</td>\n",
       "      <td>True</td>\n",
       "    </tr>\n",
       "  </tbody>\n",
       "</table>\n",
       "</div>"
      ],
      "text/plain": [
       "            ID                                               name category  \\\n",
       "5   1000014025                               Monarch Espresso Bar     Food   \n",
       "6   1000023410  Support Solar Roasted Coffee & Green Energy!  ...     Food   \n",
       "11   100005484                                   Lisa Lim New CD!    Music   \n",
       "14  1000057089  Tombstone: Old West tabletop game and miniatur...    Games   \n",
       "18  1000070642                Mike Corey's Darkness & Light Album    Music   \n",
       "\n",
       "     deadline            launched       state  backers country    pledged  \\\n",
       "5  2016-04-01 2016-02-26 13:38:27  successful      224      US   52375.00   \n",
       "6  2014-12-21 2014-12-01 18:30:44  successful       16      US    1205.00   \n",
       "11 2013-04-08 2013-03-09 06:42:58  successful      100      US   12700.00   \n",
       "14 2017-05-03 2017-04-05 19:44:18  successful      761      GB  121857.33   \n",
       "18 2012-08-17 2012-08-02 14:11:32  successful        7      US     250.00   \n",
       "\n",
       "        goal  is_successful  \n",
       "5   50000.00           True  \n",
       "6    1000.00           True  \n",
       "11  12500.00           True  \n",
       "14   6469.73           True  \n",
       "18    250.00           True  "
      ]
     },
     "execution_count": 22,
     "metadata": {},
     "output_type": "execute_result"
    }
   ],
   "source": [
    "projects[(projects.state == 'successful') | (projects.state == 'live')].head()"
   ]
  },
  {
   "cell_type": "code",
   "execution_count": 23,
   "metadata": {},
   "outputs": [
    {
     "data": {
      "text/html": [
       "<div>\n",
       "<style scoped>\n",
       "    .dataframe tbody tr th:only-of-type {\n",
       "        vertical-align: middle;\n",
       "    }\n",
       "\n",
       "    .dataframe tbody tr th {\n",
       "        vertical-align: top;\n",
       "    }\n",
       "\n",
       "    .dataframe thead th {\n",
       "        text-align: right;\n",
       "    }\n",
       "</style>\n",
       "<table border=\"1\" class=\"dataframe\">\n",
       "  <thead>\n",
       "    <tr style=\"text-align: right;\">\n",
       "      <th></th>\n",
       "      <th>ID</th>\n",
       "      <th>name</th>\n",
       "      <th>category</th>\n",
       "      <th>deadline</th>\n",
       "      <th>launched</th>\n",
       "      <th>state</th>\n",
       "      <th>backers</th>\n",
       "      <th>country</th>\n",
       "      <th>pledged</th>\n",
       "      <th>goal</th>\n",
       "      <th>is_successful</th>\n",
       "    </tr>\n",
       "  </thead>\n",
       "  <tbody>\n",
       "    <tr>\n",
       "      <th>0</th>\n",
       "      <td>1000002330</td>\n",
       "      <td>The Songs of Adelaide &amp; Abullah</td>\n",
       "      <td>Publishing</td>\n",
       "      <td>2015-10-09</td>\n",
       "      <td>2015-08-11 12:12:28</td>\n",
       "      <td>failed</td>\n",
       "      <td>0</td>\n",
       "      <td>GB</td>\n",
       "      <td>0.0</td>\n",
       "      <td>1533.95</td>\n",
       "      <td>False</td>\n",
       "    </tr>\n",
       "    <tr>\n",
       "      <th>1</th>\n",
       "      <td>1000003930</td>\n",
       "      <td>Greeting From Earth: ZGAC Arts Capsule For ET</td>\n",
       "      <td>Film &amp; Video</td>\n",
       "      <td>2017-11-01</td>\n",
       "      <td>2017-09-02 04:43:57</td>\n",
       "      <td>failed</td>\n",
       "      <td>15</td>\n",
       "      <td>US</td>\n",
       "      <td>2421.0</td>\n",
       "      <td>30000.00</td>\n",
       "      <td>False</td>\n",
       "    </tr>\n",
       "    <tr>\n",
       "      <th>2</th>\n",
       "      <td>1000004038</td>\n",
       "      <td>Where is Hank?</td>\n",
       "      <td>Film &amp; Video</td>\n",
       "      <td>2013-02-26</td>\n",
       "      <td>2013-01-12 00:20:50</td>\n",
       "      <td>failed</td>\n",
       "      <td>3</td>\n",
       "      <td>US</td>\n",
       "      <td>220.0</td>\n",
       "      <td>45000.00</td>\n",
       "      <td>False</td>\n",
       "    </tr>\n",
       "    <tr>\n",
       "      <th>3</th>\n",
       "      <td>1000007540</td>\n",
       "      <td>ToshiCapital Rekordz Needs Help to Complete Album</td>\n",
       "      <td>Music</td>\n",
       "      <td>2012-04-16</td>\n",
       "      <td>2012-03-17 03:24:11</td>\n",
       "      <td>failed</td>\n",
       "      <td>1</td>\n",
       "      <td>US</td>\n",
       "      <td>1.0</td>\n",
       "      <td>5000.00</td>\n",
       "      <td>False</td>\n",
       "    </tr>\n",
       "    <tr>\n",
       "      <th>4</th>\n",
       "      <td>1000011046</td>\n",
       "      <td>Community Film Project: The Art of Neighborhoo...</td>\n",
       "      <td>Film &amp; Video</td>\n",
       "      <td>2015-08-29</td>\n",
       "      <td>2015-07-04 08:35:03</td>\n",
       "      <td>canceled</td>\n",
       "      <td>14</td>\n",
       "      <td>US</td>\n",
       "      <td>1283.0</td>\n",
       "      <td>19500.00</td>\n",
       "      <td>False</td>\n",
       "    </tr>\n",
       "  </tbody>\n",
       "</table>\n",
       "</div>"
      ],
      "text/plain": [
       "           ID                                               name  \\\n",
       "0  1000002330                    The Songs of Adelaide & Abullah   \n",
       "1  1000003930      Greeting From Earth: ZGAC Arts Capsule For ET   \n",
       "2  1000004038                                     Where is Hank?   \n",
       "3  1000007540  ToshiCapital Rekordz Needs Help to Complete Album   \n",
       "4  1000011046  Community Film Project: The Art of Neighborhoo...   \n",
       "\n",
       "       category   deadline            launched     state  backers country  \\\n",
       "0    Publishing 2015-10-09 2015-08-11 12:12:28    failed        0      GB   \n",
       "1  Film & Video 2017-11-01 2017-09-02 04:43:57    failed       15      US   \n",
       "2  Film & Video 2013-02-26 2013-01-12 00:20:50    failed        3      US   \n",
       "3         Music 2012-04-16 2012-03-17 03:24:11    failed        1      US   \n",
       "4  Film & Video 2015-08-29 2015-07-04 08:35:03  canceled       14      US   \n",
       "\n",
       "   pledged      goal  is_successful  \n",
       "0      0.0   1533.95          False  \n",
       "1   2421.0  30000.00          False  \n",
       "2    220.0  45000.00          False  \n",
       "3      1.0   5000.00          False  \n",
       "4   1283.0  19500.00          False  "
      ]
     },
     "execution_count": 23,
     "metadata": {},
     "output_type": "execute_result"
    }
   ],
   "source": [
    "projects[(projects.state != 'successful') | (projects.state != 'live')].head()"
   ]
  },
  {
   "cell_type": "markdown",
   "metadata": {},
   "source": [
    "Dapat dilihat kolom `is_successful` akan bernilai **True** jika statenya sama dengan succssful atau live dan akan bernilai **False** jika tidak."
   ]
  },
  {
   "cell_type": "markdown",
   "metadata": {},
   "source": [
    "### Outlier Removal"
   ]
  },
  {
   "cell_type": "markdown",
   "metadata": {},
   "source": [
    "Pada bagian ini akan dilakukan penghapusan outlier yang ada pada kolom `pledged`."
   ]
  },
  {
   "cell_type": "markdown",
   "metadata": {},
   "source": [
    "Menghitung **IQR** (Interquartile Range) dari kolom `pledged`."
   ]
  },
  {
   "cell_type": "code",
   "execution_count": 24,
   "metadata": {},
   "outputs": [],
   "source": [
    "Q1 = np.quantile(projects.pledged, 0.25)\n",
    "Q3 = np.quantile(projects.pledged, 0.75)\n",
    "IQR = Q3 - Q1"
   ]
  },
  {
   "cell_type": "markdown",
   "metadata": {},
   "source": [
    "Membuat batas bawah dan batas atas untuk menghilangkan outlier."
   ]
  },
  {
   "cell_type": "code",
   "execution_count": 25,
   "metadata": {},
   "outputs": [],
   "source": [
    "lower_limit = Q1 - (1.5 * IQR)\n",
    "upper_limit = Q3 + (1.5 * IQR)"
   ]
  },
  {
   "cell_type": "code",
   "execution_count": 26,
   "metadata": {},
   "outputs": [
    {
     "data": {
      "text/html": [
       "<div>\n",
       "<style scoped>\n",
       "    .dataframe tbody tr th:only-of-type {\n",
       "        vertical-align: middle;\n",
       "    }\n",
       "\n",
       "    .dataframe tbody tr th {\n",
       "        vertical-align: top;\n",
       "    }\n",
       "\n",
       "    .dataframe thead th {\n",
       "        text-align: right;\n",
       "    }\n",
       "</style>\n",
       "<table border=\"1\" class=\"dataframe\">\n",
       "  <thead>\n",
       "    <tr style=\"text-align: right;\">\n",
       "      <th></th>\n",
       "      <th>ID</th>\n",
       "      <th>name</th>\n",
       "      <th>category</th>\n",
       "      <th>deadline</th>\n",
       "      <th>launched</th>\n",
       "      <th>state</th>\n",
       "      <th>backers</th>\n",
       "      <th>country</th>\n",
       "      <th>pledged</th>\n",
       "      <th>goal</th>\n",
       "      <th>is_successful</th>\n",
       "    </tr>\n",
       "  </thead>\n",
       "  <tbody>\n",
       "    <tr>\n",
       "      <th>5</th>\n",
       "      <td>1000014025</td>\n",
       "      <td>Monarch Espresso Bar</td>\n",
       "      <td>Food</td>\n",
       "      <td>2016-04-01</td>\n",
       "      <td>2016-02-26 13:38:27</td>\n",
       "      <td>successful</td>\n",
       "      <td>224</td>\n",
       "      <td>US</td>\n",
       "      <td>52375.00</td>\n",
       "      <td>50000.00</td>\n",
       "      <td>True</td>\n",
       "    </tr>\n",
       "    <tr>\n",
       "      <th>11</th>\n",
       "      <td>100005484</td>\n",
       "      <td>Lisa Lim New CD!</td>\n",
       "      <td>Music</td>\n",
       "      <td>2013-04-08</td>\n",
       "      <td>2013-03-09 06:42:58</td>\n",
       "      <td>successful</td>\n",
       "      <td>100</td>\n",
       "      <td>US</td>\n",
       "      <td>12700.00</td>\n",
       "      <td>12500.00</td>\n",
       "      <td>True</td>\n",
       "    </tr>\n",
       "    <tr>\n",
       "      <th>14</th>\n",
       "      <td>1000057089</td>\n",
       "      <td>Tombstone: Old West tabletop game and miniatur...</td>\n",
       "      <td>Games</td>\n",
       "      <td>2017-05-03</td>\n",
       "      <td>2017-04-05 19:44:18</td>\n",
       "      <td>successful</td>\n",
       "      <td>761</td>\n",
       "      <td>GB</td>\n",
       "      <td>121857.33</td>\n",
       "      <td>6469.73</td>\n",
       "      <td>True</td>\n",
       "    </tr>\n",
       "    <tr>\n",
       "      <th>20</th>\n",
       "      <td>1000072011</td>\n",
       "      <td>CMUK. Shoes: Take on Life Feet First.</td>\n",
       "      <td>Fashion</td>\n",
       "      <td>2013-12-30</td>\n",
       "      <td>2013-11-25 07:06:11</td>\n",
       "      <td>successful</td>\n",
       "      <td>624</td>\n",
       "      <td>US</td>\n",
       "      <td>34268.00</td>\n",
       "      <td>20000.00</td>\n",
       "      <td>True</td>\n",
       "    </tr>\n",
       "    <tr>\n",
       "      <th>25</th>\n",
       "      <td>1000102741</td>\n",
       "      <td>Matt Cavenaugh &amp; Jenny Powers make their 1st a...</td>\n",
       "      <td>Music</td>\n",
       "      <td>2011-01-06</td>\n",
       "      <td>2010-12-07 23:16:50</td>\n",
       "      <td>successful</td>\n",
       "      <td>147</td>\n",
       "      <td>US</td>\n",
       "      <td>15827.00</td>\n",
       "      <td>10000.00</td>\n",
       "      <td>True</td>\n",
       "    </tr>\n",
       "    <tr>\n",
       "      <th>...</th>\n",
       "      <td>...</td>\n",
       "      <td>...</td>\n",
       "      <td>...</td>\n",
       "      <td>...</td>\n",
       "      <td>...</td>\n",
       "      <td>...</td>\n",
       "      <td>...</td>\n",
       "      <td>...</td>\n",
       "      <td>...</td>\n",
       "      <td>...</td>\n",
       "      <td>...</td>\n",
       "    </tr>\n",
       "    <tr>\n",
       "      <th>378621</th>\n",
       "      <td>999796570</td>\n",
       "      <td>M A V A R I</td>\n",
       "      <td>Fashion</td>\n",
       "      <td>2015-01-01</td>\n",
       "      <td>2014-11-30 03:11:48</td>\n",
       "      <td>successful</td>\n",
       "      <td>215</td>\n",
       "      <td>US</td>\n",
       "      <td>42647.00</td>\n",
       "      <td>30000.00</td>\n",
       "      <td>True</td>\n",
       "    </tr>\n",
       "    <tr>\n",
       "      <th>378622</th>\n",
       "      <td>999799441</td>\n",
       "      <td>The Hollywood Kills On Tour</td>\n",
       "      <td>Music</td>\n",
       "      <td>2012-05-04</td>\n",
       "      <td>2012-03-05 23:12:03</td>\n",
       "      <td>successful</td>\n",
       "      <td>78</td>\n",
       "      <td>US</td>\n",
       "      <td>10300.00</td>\n",
       "      <td>10000.00</td>\n",
       "      <td>True</td>\n",
       "    </tr>\n",
       "    <tr>\n",
       "      <th>378631</th>\n",
       "      <td>999832803</td>\n",
       "      <td>MONSTROCARDS- A Creative Drawing Game of Horri...</td>\n",
       "      <td>Games</td>\n",
       "      <td>2014-10-03</td>\n",
       "      <td>2014-09-03 19:53:50</td>\n",
       "      <td>successful</td>\n",
       "      <td>413</td>\n",
       "      <td>US</td>\n",
       "      <td>13861.50</td>\n",
       "      <td>10000.00</td>\n",
       "      <td>True</td>\n",
       "    </tr>\n",
       "    <tr>\n",
       "      <th>378633</th>\n",
       "      <td>999865831</td>\n",
       "      <td>STATE OF G - Men's Blazer Jacket &amp; Women's Car...</td>\n",
       "      <td>Fashion</td>\n",
       "      <td>2014-12-13</td>\n",
       "      <td>2014-11-13 17:16:17</td>\n",
       "      <td>failed</td>\n",
       "      <td>97</td>\n",
       "      <td>US</td>\n",
       "      <td>11643.00</td>\n",
       "      <td>25000.00</td>\n",
       "      <td>False</td>\n",
       "    </tr>\n",
       "    <tr>\n",
       "      <th>378637</th>\n",
       "      <td>999878813</td>\n",
       "      <td>Ways to Look at the Moon</td>\n",
       "      <td>Film &amp; Video</td>\n",
       "      <td>2017-10-13</td>\n",
       "      <td>2017-08-29 06:57:28</td>\n",
       "      <td>successful</td>\n",
       "      <td>123</td>\n",
       "      <td>US</td>\n",
       "      <td>10245.00</td>\n",
       "      <td>10000.00</td>\n",
       "      <td>True</td>\n",
       "    </tr>\n",
       "  </tbody>\n",
       "</table>\n",
       "<p>50558 rows × 11 columns</p>\n",
       "</div>"
      ],
      "text/plain": [
       "                ID                                               name  \\\n",
       "5       1000014025                               Monarch Espresso Bar   \n",
       "11       100005484                                   Lisa Lim New CD!   \n",
       "14      1000057089  Tombstone: Old West tabletop game and miniatur...   \n",
       "20      1000072011              CMUK. Shoes: Take on Life Feet First.   \n",
       "25      1000102741  Matt Cavenaugh & Jenny Powers make their 1st a...   \n",
       "...            ...                                                ...   \n",
       "378621   999796570                                        M A V A R I   \n",
       "378622   999799441                        The Hollywood Kills On Tour   \n",
       "378631   999832803  MONSTROCARDS- A Creative Drawing Game of Horri...   \n",
       "378633   999865831  STATE OF G - Men's Blazer Jacket & Women's Car...   \n",
       "378637   999878813                           Ways to Look at the Moon   \n",
       "\n",
       "            category   deadline            launched       state  backers  \\\n",
       "5               Food 2016-04-01 2016-02-26 13:38:27  successful      224   \n",
       "11             Music 2013-04-08 2013-03-09 06:42:58  successful      100   \n",
       "14             Games 2017-05-03 2017-04-05 19:44:18  successful      761   \n",
       "20           Fashion 2013-12-30 2013-11-25 07:06:11  successful      624   \n",
       "25             Music 2011-01-06 2010-12-07 23:16:50  successful      147   \n",
       "...              ...        ...                 ...         ...      ...   \n",
       "378621       Fashion 2015-01-01 2014-11-30 03:11:48  successful      215   \n",
       "378622         Music 2012-05-04 2012-03-05 23:12:03  successful       78   \n",
       "378631         Games 2014-10-03 2014-09-03 19:53:50  successful      413   \n",
       "378633       Fashion 2014-12-13 2014-11-13 17:16:17      failed       97   \n",
       "378637  Film & Video 2017-10-13 2017-08-29 06:57:28  successful      123   \n",
       "\n",
       "       country    pledged      goal  is_successful  \n",
       "5           US   52375.00  50000.00           True  \n",
       "11          US   12700.00  12500.00           True  \n",
       "14          GB  121857.33   6469.73           True  \n",
       "20          US   34268.00  20000.00           True  \n",
       "25          US   15827.00  10000.00           True  \n",
       "...        ...        ...       ...            ...  \n",
       "378621      US   42647.00  30000.00           True  \n",
       "378622      US   10300.00  10000.00           True  \n",
       "378631      US   13861.50  10000.00           True  \n",
       "378633      US   11643.00  25000.00          False  \n",
       "378637      US   10245.00  10000.00           True  \n",
       "\n",
       "[50558 rows x 11 columns]"
      ]
     },
     "execution_count": 26,
     "metadata": {},
     "output_type": "execute_result"
    }
   ],
   "source": [
    "projects[(projects.pledged < lower_limit) | (projects.pledged > upper_limit)]"
   ]
  },
  {
   "cell_type": "markdown",
   "metadata": {},
   "source": [
    "Berikut adalah outlier pada kolom `pledged`, terdapat **50558** data outlier."
   ]
  },
  {
   "cell_type": "markdown",
   "metadata": {},
   "source": [
    "Membuat dataframe baru untuk menampung semua baris data yang tidak termasuk outlier."
   ]
  },
  {
   "cell_type": "code",
   "execution_count": 27,
   "metadata": {},
   "outputs": [],
   "source": [
    "projects_no_outlier = projects[(projects.pledged > lower_limit) & (projects.pledged < upper_limit)]"
   ]
  },
  {
   "cell_type": "markdown",
   "metadata": {},
   "source": [
    "Melakukan plotting untuk melihat distribusi kolom `pledged` sebelum dan sesudah penghilangan outlier."
   ]
  },
  {
   "cell_type": "code",
   "execution_count": 28,
   "metadata": {},
   "outputs": [
    {
     "data": {
      "text/plain": [
       "Text(0.5, 1.0, 'Pledged Distribution After Outlier Removal')"
      ]
     },
     "execution_count": 28,
     "metadata": {},
     "output_type": "execute_result"
    },
    {
     "data": {
      "image/png": "[encoded data removed]",
      "text/plain": [
       "<Figure size 1440x360 with 2 Axes>"
      ]
     },
     "metadata": {
      "needs_background": "light"
     },
     "output_type": "display_data"
    }
   ],
   "source": [
    "fig, ax = plt.subplots(ncols=2, figsize=(20,5))\n",
    "ax[0].hist(projects.pledged)\n",
    "ax[0].set_title('Pledged Distribution Before Outlier Removal')\n",
    "ax[1].hist(projects_no_outlier.pledged)\n",
    "ax[1].set_title('Pledged Distribution After Outlier Removal')"
   ]
  },
  {
   "cell_type": "markdown",
   "metadata": {},
   "source": [
    "Setelah dilakukan penghilangan outlier distribusi `pledged` dapat dilihat lebih jelas, dimana bentuk dari distribusinya adalah **Right-Skewed**."
   ]
  },
  {
   "cell_type": "markdown",
   "metadata": {},
   "source": [
    "## Data Exploration"
   ]
  },
  {
   "cell_type": "markdown",
   "metadata": {},
   "source": [
    "### Measure of Central Tendency"
   ]
  },
  {
   "cell_type": "markdown",
   "metadata": {},
   "source": [
    "Pada bagian **Measure of Central Tendency** ini akan melihat **mean**, **median**, dan **mode** kolom `pledged` dari dua dataframe yaitu `projects` dan `projects_no_outlier`, dimana:\n",
    "- **projects** adalah dataframe asli tanpa penghapusan outlier\n",
    "- **projects_no_outlier** adalah dataframe yang sudah dilakukan penghapusan outlier dari kolom pledged"
   ]
  },
  {
   "cell_type": "markdown",
   "metadata": {},
   "source": [
    "#### Central Tendency of Projects Datasets"
   ]
  },
  {
   "cell_type": "code",
   "execution_count": 29,
   "metadata": {},
   "outputs": [
    {
     "name": "stdout",
     "output_type": "stream",
     "text": [
      "Pledged mean: 9120.90\n",
      "Pledged median: 624.50\n",
      "Pledged mode: 0.0\n"
     ]
    }
   ],
   "source": [
    "print(f'Pledged mean: {projects.pledged.mean():.2f}')\n",
    "print(f'Pledged median: {projects.pledged.median():.2f}')\n",
    "print(f'Pledged mode: {stats.mode(projects.pledged)[0][0]}')"
   ]
  },
  {
   "cell_type": "code",
   "execution_count": 30,
   "metadata": {},
   "outputs": [
    {
     "data": {
      "text/plain": [
       "<matplotlib.legend.Legend at 0x256c181f310>"
      ]
     },
     "execution_count": 30,
     "metadata": {},
     "output_type": "execute_result"
    },
    {
     "data": {
      "image/png": "[encoded data removed]",
      "text/plain": [
       "<Figure size 432x288 with 1 Axes>"
      ]
     },
     "metadata": {
      "needs_background": "light"
     },
     "output_type": "display_data"
    }
   ],
   "source": [
    "plt.hist(projects.pledged)\n",
    "plt.axvline(projects.pledged.mean(), linewidth=2, color='r', label='Mean')\n",
    "plt.axvline(projects.pledged.median(), linewidth=2, color='orange', label='Median')\n",
    "plt.axvline(stats.mode(projects.pledged)[0][0], linewidth=2, color='purple', label='Mode')\n",
    "plt.title('Pledged Distribution (With Outlier)')\n",
    "plt.legend()"
   ]
  },
  {
   "cell_type": "markdown",
   "metadata": {},
   "source": [
    "#### Central Tendency of Projects Datasets Without Outlier"
   ]
  },
  {
   "cell_type": "code",
   "execution_count": 31,
   "metadata": {},
   "outputs": [
    {
     "name": "stdout",
     "output_type": "stream",
     "text": [
      "Pledged mean: 1466.83\n",
      "Pledged median: 328.00\n",
      "Pledged mode: 0.0\n"
     ]
    }
   ],
   "source": [
    "print(f'Pledged mean: {projects_no_outlier.pledged.mean():.2f}')\n",
    "print(f'Pledged median: {projects_no_outlier.pledged.median():.2f}')\n",
    "print(f'Pledged mode: {stats.mode(projects_no_outlier.pledged)[0][0]}')"
   ]
  },
  {
   "cell_type": "code",
   "execution_count": 32,
   "metadata": {},
   "outputs": [
    {
     "data": {
      "text/plain": [
       "<matplotlib.legend.Legend at 0x256c18bd8e0>"
      ]
     },
     "execution_count": 32,
     "metadata": {},
     "output_type": "execute_result"
    },
    {
     "data": {
      "image/png": "[encoded data removed]",
      "text/plain": [
       "<Figure size 432x288 with 1 Axes>"
      ]
     },
     "metadata": {
      "needs_background": "light"
     },
     "output_type": "display_data"
    }
   ],
   "source": [
    "plt.hist(projects_no_outlier.pledged)\n",
    "plt.axvline(projects_no_outlier.pledged.mean(), linewidth=2, color='r', label='Mean')\n",
    "plt.axvline(projects_no_outlier.pledged.median(), linewidth=2, color='orange', label='Median')\n",
    "plt.axvline(stats.mode(projects_no_outlier.pledged)[0][0], linewidth=2, color='purple', label='Mode')\n",
    "plt.title('Pledged Distribution (Without Outlier)')\n",
    "plt.legend()"
   ]
  },
  {
   "cell_type": "markdown",
   "metadata": {},
   "source": [
    "Dapat dilihat mean dan median dari kedua dataset memiliki perbedaan yang sangat besar hal ini disebabkan karena adanya outlier sehingga membuat mean dan median dari dataset pertama (projects) menjadi sangat besar. Sedangkan modus pada kedua datasets tetap sama dengan nilai pledged **0 USD** yang paling banyak muncul."
   ]
  },
  {
   "cell_type": "markdown",
   "metadata": {},
   "source": [
    "### Measure of Variance"
   ]
  },
  {
   "cell_type": "markdown",
   "metadata": {},
   "source": [
    "Pada bagian **Measure of Variance** ini akan melihat **range**, **variance**, dan **standard deviation** dari kolom `pledged`. Sama seperti pada bagian Measure of Central Tendency dataframe yang akan digunakan adalah `projects` dan `projects_no_outlier`."
   ]
  },
  {
   "cell_type": "markdown",
   "metadata": {},
   "source": [
    "#### Variance of Projects Datasets"
   ]
  },
  {
   "cell_type": "code",
   "execution_count": 33,
   "metadata": {},
   "outputs": [
    {
     "name": "stdout",
     "output_type": "stream",
     "text": [
      "Pledged range: 20338986.27\n",
      "Pledged variance: 8339286590.89\n",
      "Pledged standard deviation: 91319.69\n"
     ]
    }
   ],
   "source": [
    "print(f'Pledged range: {projects.pledged.max() - projects.pledged.min()}')\n",
    "print(f'Pledged variance: {projects.pledged.var():.2f}')\n",
    "print(f'Pledged standard deviation: {projects.pledged.std():.2f}')"
   ]
  },
  {
   "cell_type": "markdown",
   "metadata": {},
   "source": [
    "#### Variance of Projects Datasets Without Outlier"
   ]
  },
  {
   "cell_type": "code",
   "execution_count": 34,
   "metadata": {},
   "outputs": [
    {
     "name": "stdout",
     "output_type": "stream",
     "text": [
      "Pledged range: 10080.22\n",
      "Pledged variance: 4970729.37\n",
      "Pledged standard deviation: 2229.51\n"
     ]
    }
   ],
   "source": [
    "print(f'Pledged range: {projects_no_outlier.pledged.max() - projects_no_outlier.pledged.min()}')\n",
    "print(f'Pledged variance: {projects_no_outlier.pledged.var():.2f}')\n",
    "print(f'Pledged standard deviation: {projects_no_outlier.pledged.std():.2f}')"
   ]
  },
  {
   "cell_type": "markdown",
   "metadata": {},
   "source": [
    "Dapat dilihat range dari kedua dataset sangat berbeda hal ini disebabkan karena pada dataset pertama masih terdapat outlier sehingga membuat rentang (**range**) data sangat besar, outlier juga membuat sebaran data (**variance**) dan jarak tiap data ke rata-ratanya (**standar deviasi**) menjadi sangat jauh."
   ]
  },
  {
   "cell_type": "markdown",
   "metadata": {},
   "source": [
    "### Hypothesis Testing"
   ]
  },
  {
   "cell_type": "markdown",
   "metadata": {},
   "source": [
    "H0 = rata2 games = rata2 musik\n",
    "\n",
    "H1 = rata2 games != rata2 musik"
   ]
  },
  {
   "cell_type": "code",
   "execution_count": 35,
   "metadata": {},
   "outputs": [
    {
     "data": {
      "text/html": [
       "<div>\n",
       "<style scoped>\n",
       "    .dataframe tbody tr th:only-of-type {\n",
       "        vertical-align: middle;\n",
       "    }\n",
       "\n",
       "    .dataframe tbody tr th {\n",
       "        vertical-align: top;\n",
       "    }\n",
       "\n",
       "    .dataframe thead th {\n",
       "        text-align: right;\n",
       "    }\n",
       "</style>\n",
       "<table border=\"1\" class=\"dataframe\">\n",
       "  <thead>\n",
       "    <tr style=\"text-align: right;\">\n",
       "      <th></th>\n",
       "      <th>ID</th>\n",
       "      <th>name</th>\n",
       "      <th>category</th>\n",
       "      <th>deadline</th>\n",
       "      <th>launched</th>\n",
       "      <th>state</th>\n",
       "      <th>backers</th>\n",
       "      <th>country</th>\n",
       "      <th>pledged</th>\n",
       "      <th>goal</th>\n",
       "      <th>is_successful</th>\n",
       "    </tr>\n",
       "  </thead>\n",
       "  <tbody>\n",
       "    <tr>\n",
       "      <th>13</th>\n",
       "      <td>1000056157</td>\n",
       "      <td>G-Spot Place for Gamers to connect with eachot...</td>\n",
       "      <td>Games</td>\n",
       "      <td>2016-03-25</td>\n",
       "      <td>2016-02-09 23:01:12</td>\n",
       "      <td>failed</td>\n",
       "      <td>0</td>\n",
       "      <td>US</td>\n",
       "      <td>0.00</td>\n",
       "      <td>200000.00</td>\n",
       "      <td>False</td>\n",
       "    </tr>\n",
       "    <tr>\n",
       "      <th>43</th>\n",
       "      <td>1000170964</td>\n",
       "      <td>Penny Bingo Playing Card Game fun for the whol...</td>\n",
       "      <td>Games</td>\n",
       "      <td>2017-03-27</td>\n",
       "      <td>2017-03-02 04:01:43</td>\n",
       "      <td>failed</td>\n",
       "      <td>25</td>\n",
       "      <td>US</td>\n",
       "      <td>856.00</td>\n",
       "      <td>1500.00</td>\n",
       "      <td>False</td>\n",
       "    </tr>\n",
       "    <tr>\n",
       "      <th>48</th>\n",
       "      <td>1000190427</td>\n",
       "      <td>Seas of Iron</td>\n",
       "      <td>Games</td>\n",
       "      <td>2013-07-19</td>\n",
       "      <td>2013-06-19 03:16:33</td>\n",
       "      <td>successful</td>\n",
       "      <td>218</td>\n",
       "      <td>US</td>\n",
       "      <td>8105.00</td>\n",
       "      <td>3000.00</td>\n",
       "      <td>True</td>\n",
       "    </tr>\n",
       "    <tr>\n",
       "      <th>73</th>\n",
       "      <td>1000278154</td>\n",
       "      <td>Loot and Recruit - A quirky, combative, deck b...</td>\n",
       "      <td>Games</td>\n",
       "      <td>2015-04-10</td>\n",
       "      <td>2015-03-10 13:19:18</td>\n",
       "      <td>canceled</td>\n",
       "      <td>65</td>\n",
       "      <td>US</td>\n",
       "      <td>2453.00</td>\n",
       "      <td>13000.00</td>\n",
       "      <td>False</td>\n",
       "    </tr>\n",
       "    <tr>\n",
       "      <th>79</th>\n",
       "      <td>1000328150</td>\n",
       "      <td>Legacy of Svarog | a Unique 3D Action RPG and ...</td>\n",
       "      <td>Games</td>\n",
       "      <td>2015-10-30</td>\n",
       "      <td>2015-08-31 06:33:31</td>\n",
       "      <td>failed</td>\n",
       "      <td>38</td>\n",
       "      <td>US</td>\n",
       "      <td>1410.00</td>\n",
       "      <td>50000.00</td>\n",
       "      <td>False</td>\n",
       "    </tr>\n",
       "    <tr>\n",
       "      <th>...</th>\n",
       "      <td>...</td>\n",
       "      <td>...</td>\n",
       "      <td>...</td>\n",
       "      <td>...</td>\n",
       "      <td>...</td>\n",
       "      <td>...</td>\n",
       "      <td>...</td>\n",
       "      <td>...</td>\n",
       "      <td>...</td>\n",
       "      <td>...</td>\n",
       "      <td>...</td>\n",
       "    </tr>\n",
       "    <tr>\n",
       "      <th>378569</th>\n",
       "      <td>999502226</td>\n",
       "      <td>Zombie Farkle: A Dice Game to Die For... (Canc...</td>\n",
       "      <td>Games</td>\n",
       "      <td>2016-04-23</td>\n",
       "      <td>2016-03-28 15:50:57</td>\n",
       "      <td>canceled</td>\n",
       "      <td>65</td>\n",
       "      <td>US</td>\n",
       "      <td>676.00</td>\n",
       "      <td>3000.00</td>\n",
       "      <td>False</td>\n",
       "    </tr>\n",
       "    <tr>\n",
       "      <th>378587</th>\n",
       "      <td>999618790</td>\n",
       "      <td>Cloud Game Hosting</td>\n",
       "      <td>Games</td>\n",
       "      <td>2016-09-03</td>\n",
       "      <td>2016-08-04 09:04:16</td>\n",
       "      <td>canceled</td>\n",
       "      <td>1</td>\n",
       "      <td>AU</td>\n",
       "      <td>15.19</td>\n",
       "      <td>3797.66</td>\n",
       "      <td>False</td>\n",
       "    </tr>\n",
       "    <tr>\n",
       "      <th>378592</th>\n",
       "      <td>9996452</td>\n",
       "      <td>Onit Saves The World! Let's make this game one...</td>\n",
       "      <td>Games</td>\n",
       "      <td>2013-10-25</td>\n",
       "      <td>2013-09-25 22:13:27</td>\n",
       "      <td>failed</td>\n",
       "      <td>4</td>\n",
       "      <td>CA</td>\n",
       "      <td>532.67</td>\n",
       "      <td>359264.23</td>\n",
       "      <td>False</td>\n",
       "    </tr>\n",
       "    <tr>\n",
       "      <th>378642</th>\n",
       "      <td>999929142</td>\n",
       "      <td>ÉPOUVANTAILS : 28mm Figurines de jeux pour KIN...</td>\n",
       "      <td>Games</td>\n",
       "      <td>2017-10-31</td>\n",
       "      <td>2017-10-04 11:26:44</td>\n",
       "      <td>successful</td>\n",
       "      <td>35</td>\n",
       "      <td>FR</td>\n",
       "      <td>1452.47</td>\n",
       "      <td>1165.70</td>\n",
       "      <td>True</td>\n",
       "    </tr>\n",
       "    <tr>\n",
       "      <th>378648</th>\n",
       "      <td>999955533</td>\n",
       "      <td>Cards and Chit Network Season 2! (Canceled)</td>\n",
       "      <td>Games</td>\n",
       "      <td>2016-02-23</td>\n",
       "      <td>2016-01-24 16:03:27</td>\n",
       "      <td>canceled</td>\n",
       "      <td>5</td>\n",
       "      <td>US</td>\n",
       "      <td>121.00</td>\n",
       "      <td>500.00</td>\n",
       "      <td>False</td>\n",
       "    </tr>\n",
       "  </tbody>\n",
       "</table>\n",
       "<p>27446 rows × 11 columns</p>\n",
       "</div>"
      ],
      "text/plain": [
       "                ID                                               name  \\\n",
       "13      1000056157  G-Spot Place for Gamers to connect with eachot...   \n",
       "43      1000170964  Penny Bingo Playing Card Game fun for the whol...   \n",
       "48      1000190427                                       Seas of Iron   \n",
       "73      1000278154  Loot and Recruit - A quirky, combative, deck b...   \n",
       "79      1000328150  Legacy of Svarog | a Unique 3D Action RPG and ...   \n",
       "...            ...                                                ...   \n",
       "378569   999502226  Zombie Farkle: A Dice Game to Die For... (Canc...   \n",
       "378587   999618790                                 Cloud Game Hosting   \n",
       "378592     9996452  Onit Saves The World! Let's make this game one...   \n",
       "378642   999929142  ÉPOUVANTAILS : 28mm Figurines de jeux pour KIN...   \n",
       "378648   999955533        Cards and Chit Network Season 2! (Canceled)   \n",
       "\n",
       "       category   deadline            launched       state  backers country  \\\n",
       "13        Games 2016-03-25 2016-02-09 23:01:12      failed        0      US   \n",
       "43        Games 2017-03-27 2017-03-02 04:01:43      failed       25      US   \n",
       "48        Games 2013-07-19 2013-06-19 03:16:33  successful      218      US   \n",
       "73        Games 2015-04-10 2015-03-10 13:19:18    canceled       65      US   \n",
       "79        Games 2015-10-30 2015-08-31 06:33:31      failed       38      US   \n",
       "...         ...        ...                 ...         ...      ...     ...   \n",
       "378569    Games 2016-04-23 2016-03-28 15:50:57    canceled       65      US   \n",
       "378587    Games 2016-09-03 2016-08-04 09:04:16    canceled        1      AU   \n",
       "378592    Games 2013-10-25 2013-09-25 22:13:27      failed        4      CA   \n",
       "378642    Games 2017-10-31 2017-10-04 11:26:44  successful       35      FR   \n",
       "378648    Games 2016-02-23 2016-01-24 16:03:27    canceled        5      US   \n",
       "\n",
       "        pledged       goal  is_successful  \n",
       "13         0.00  200000.00          False  \n",
       "43       856.00    1500.00          False  \n",
       "48      8105.00    3000.00           True  \n",
       "73      2453.00   13000.00          False  \n",
       "79      1410.00   50000.00          False  \n",
       "...         ...        ...            ...  \n",
       "378569   676.00    3000.00          False  \n",
       "378587    15.19    3797.66          False  \n",
       "378592   532.67  359264.23          False  \n",
       "378642  1452.47    1165.70           True  \n",
       "378648   121.00     500.00          False  \n",
       "\n",
       "[27446 rows x 11 columns]"
      ]
     },
     "execution_count": 35,
     "metadata": {},
     "output_type": "execute_result"
    }
   ],
   "source": [
    "games = projects_no_outlier[projects_no_outlier.category == 'Games']\n",
    "games"
   ]
  },
  {
   "cell_type": "code",
   "execution_count": 36,
   "metadata": {},
   "outputs": [
    {
     "data": {
      "text/html": [
       "<div>\n",
       "<style scoped>\n",
       "    .dataframe tbody tr th:only-of-type {\n",
       "        vertical-align: middle;\n",
       "    }\n",
       "\n",
       "    .dataframe tbody tr th {\n",
       "        vertical-align: top;\n",
       "    }\n",
       "\n",
       "    .dataframe thead th {\n",
       "        text-align: right;\n",
       "    }\n",
       "</style>\n",
       "<table border=\"1\" class=\"dataframe\">\n",
       "  <thead>\n",
       "    <tr style=\"text-align: right;\">\n",
       "      <th></th>\n",
       "      <th>ID</th>\n",
       "      <th>name</th>\n",
       "      <th>category</th>\n",
       "      <th>deadline</th>\n",
       "      <th>launched</th>\n",
       "      <th>state</th>\n",
       "      <th>backers</th>\n",
       "      <th>country</th>\n",
       "      <th>pledged</th>\n",
       "      <th>goal</th>\n",
       "      <th>is_successful</th>\n",
       "    </tr>\n",
       "  </thead>\n",
       "  <tbody>\n",
       "    <tr>\n",
       "      <th>3</th>\n",
       "      <td>1000007540</td>\n",
       "      <td>ToshiCapital Rekordz Needs Help to Complete Album</td>\n",
       "      <td>Music</td>\n",
       "      <td>2012-04-16</td>\n",
       "      <td>2012-03-17 03:24:11</td>\n",
       "      <td>failed</td>\n",
       "      <td>1</td>\n",
       "      <td>US</td>\n",
       "      <td>1.00</td>\n",
       "      <td>5000.00</td>\n",
       "      <td>False</td>\n",
       "    </tr>\n",
       "    <tr>\n",
       "      <th>18</th>\n",
       "      <td>1000070642</td>\n",
       "      <td>Mike Corey's Darkness &amp; Light Album</td>\n",
       "      <td>Music</td>\n",
       "      <td>2012-08-17</td>\n",
       "      <td>2012-08-02 14:11:32</td>\n",
       "      <td>successful</td>\n",
       "      <td>7</td>\n",
       "      <td>US</td>\n",
       "      <td>250.00</td>\n",
       "      <td>250.00</td>\n",
       "      <td>True</td>\n",
       "    </tr>\n",
       "    <tr>\n",
       "      <th>36</th>\n",
       "      <td>1000131947</td>\n",
       "      <td>Arrows &amp; Sound Debut Album</td>\n",
       "      <td>Music</td>\n",
       "      <td>2012-05-19</td>\n",
       "      <td>2012-04-19 01:04:31</td>\n",
       "      <td>successful</td>\n",
       "      <td>157</td>\n",
       "      <td>US</td>\n",
       "      <td>8641.34</td>\n",
       "      <td>4000.00</td>\n",
       "      <td>True</td>\n",
       "    </tr>\n",
       "    <tr>\n",
       "      <th>41</th>\n",
       "      <td>1000153208</td>\n",
       "      <td>Phil Younger - Slow Down (Official Music Video)</td>\n",
       "      <td>Music</td>\n",
       "      <td>2016-12-20</td>\n",
       "      <td>2016-12-09 20:27:02</td>\n",
       "      <td>successful</td>\n",
       "      <td>34</td>\n",
       "      <td>US</td>\n",
       "      <td>2100.00</td>\n",
       "      <td>2100.00</td>\n",
       "      <td>True</td>\n",
       "    </tr>\n",
       "    <tr>\n",
       "      <th>64</th>\n",
       "      <td>1000243793</td>\n",
       "      <td>\"JurassicJurassix\" by The Guilt</td>\n",
       "      <td>Music</td>\n",
       "      <td>2015-04-09</td>\n",
       "      <td>2015-02-23 00:10:28</td>\n",
       "      <td>failed</td>\n",
       "      <td>13</td>\n",
       "      <td>US</td>\n",
       "      <td>485.00</td>\n",
       "      <td>850.00</td>\n",
       "      <td>False</td>\n",
       "    </tr>\n",
       "    <tr>\n",
       "      <th>...</th>\n",
       "      <td>...</td>\n",
       "      <td>...</td>\n",
       "      <td>...</td>\n",
       "      <td>...</td>\n",
       "      <td>...</td>\n",
       "      <td>...</td>\n",
       "      <td>...</td>\n",
       "      <td>...</td>\n",
       "      <td>...</td>\n",
       "      <td>...</td>\n",
       "      <td>...</td>\n",
       "    </tr>\n",
       "    <tr>\n",
       "      <th>378618</th>\n",
       "      <td>999778598</td>\n",
       "      <td>Michael &amp; Jeanne \"Peace and Sunshine\"</td>\n",
       "      <td>Music</td>\n",
       "      <td>2012-07-10</td>\n",
       "      <td>2012-06-10 19:35:15</td>\n",
       "      <td>failed</td>\n",
       "      <td>1</td>\n",
       "      <td>US</td>\n",
       "      <td>15.00</td>\n",
       "      <td>12500.00</td>\n",
       "      <td>False</td>\n",
       "    </tr>\n",
       "    <tr>\n",
       "      <th>378620</th>\n",
       "      <td>99978792</td>\n",
       "      <td>Join the Fearless Movement, Andre Leneal's Deb...</td>\n",
       "      <td>Music</td>\n",
       "      <td>2014-03-08</td>\n",
       "      <td>2014-01-27 09:25:24</td>\n",
       "      <td>failed</td>\n",
       "      <td>78</td>\n",
       "      <td>US</td>\n",
       "      <td>4676.00</td>\n",
       "      <td>10000.00</td>\n",
       "      <td>False</td>\n",
       "    </tr>\n",
       "    <tr>\n",
       "      <th>378624</th>\n",
       "      <td>999801167</td>\n",
       "      <td>Eternal Warfare Records Festival 2013 (Canceled)</td>\n",
       "      <td>Music</td>\n",
       "      <td>2013-03-29</td>\n",
       "      <td>2013-02-12 00:44:04</td>\n",
       "      <td>canceled</td>\n",
       "      <td>36</td>\n",
       "      <td>US</td>\n",
       "      <td>1721.00</td>\n",
       "      <td>5000.00</td>\n",
       "      <td>False</td>\n",
       "    </tr>\n",
       "    <tr>\n",
       "      <th>378636</th>\n",
       "      <td>999877902</td>\n",
       "      <td>Little Saturday's Debut Album</td>\n",
       "      <td>Music</td>\n",
       "      <td>2014-12-17</td>\n",
       "      <td>2014-11-17 17:50:12</td>\n",
       "      <td>successful</td>\n",
       "      <td>78</td>\n",
       "      <td>CA</td>\n",
       "      <td>4686.96</td>\n",
       "      <td>4311.83</td>\n",
       "      <td>True</td>\n",
       "    </tr>\n",
       "    <tr>\n",
       "      <th>378651</th>\n",
       "      <td>999969812</td>\n",
       "      <td>AT THE BEACH</td>\n",
       "      <td>Music</td>\n",
       "      <td>2014-03-22</td>\n",
       "      <td>2014-02-20 01:00:16</td>\n",
       "      <td>successful</td>\n",
       "      <td>78</td>\n",
       "      <td>CA</td>\n",
       "      <td>4983.69</td>\n",
       "      <td>4529.81</td>\n",
       "      <td>True</td>\n",
       "    </tr>\n",
       "  </tbody>\n",
       "</table>\n",
       "<p>44433 rows × 11 columns</p>\n",
       "</div>"
      ],
      "text/plain": [
       "                ID                                               name  \\\n",
       "3       1000007540  ToshiCapital Rekordz Needs Help to Complete Album   \n",
       "18      1000070642                Mike Corey's Darkness & Light Album   \n",
       "36      1000131947                         Arrows & Sound Debut Album   \n",
       "41      1000153208    Phil Younger - Slow Down (Official Music Video)   \n",
       "64      1000243793                    \"JurassicJurassix\" by The Guilt   \n",
       "...            ...                                                ...   \n",
       "378618   999778598              Michael & Jeanne \"Peace and Sunshine\"   \n",
       "378620    99978792  Join the Fearless Movement, Andre Leneal's Deb...   \n",
       "378624   999801167   Eternal Warfare Records Festival 2013 (Canceled)   \n",
       "378636   999877902                      Little Saturday's Debut Album   \n",
       "378651   999969812                                       AT THE BEACH   \n",
       "\n",
       "       category   deadline            launched       state  backers country  \\\n",
       "3         Music 2012-04-16 2012-03-17 03:24:11      failed        1      US   \n",
       "18        Music 2012-08-17 2012-08-02 14:11:32  successful        7      US   \n",
       "36        Music 2012-05-19 2012-04-19 01:04:31  successful      157      US   \n",
       "41        Music 2016-12-20 2016-12-09 20:27:02  successful       34      US   \n",
       "64        Music 2015-04-09 2015-02-23 00:10:28      failed       13      US   \n",
       "...         ...        ...                 ...         ...      ...     ...   \n",
       "378618    Music 2012-07-10 2012-06-10 19:35:15      failed        1      US   \n",
       "378620    Music 2014-03-08 2014-01-27 09:25:24      failed       78      US   \n",
       "378624    Music 2013-03-29 2013-02-12 00:44:04    canceled       36      US   \n",
       "378636    Music 2014-12-17 2014-11-17 17:50:12  successful       78      CA   \n",
       "378651    Music 2014-03-22 2014-02-20 01:00:16  successful       78      CA   \n",
       "\n",
       "        pledged      goal  is_successful  \n",
       "3          1.00   5000.00          False  \n",
       "18       250.00    250.00           True  \n",
       "36      8641.34   4000.00           True  \n",
       "41      2100.00   2100.00           True  \n",
       "64       485.00    850.00          False  \n",
       "...         ...       ...            ...  \n",
       "378618    15.00  12500.00          False  \n",
       "378620  4676.00  10000.00          False  \n",
       "378624  1721.00   5000.00          False  \n",
       "378636  4686.96   4311.83           True  \n",
       "378651  4983.69   4529.81           True  \n",
       "\n",
       "[44433 rows x 11 columns]"
      ]
     },
     "execution_count": 36,
     "metadata": {},
     "output_type": "execute_result"
    }
   ],
   "source": [
    "comics = projects_no_outlier[projects_no_outlier.category == 'Music']\n",
    "comics"
   ]
  },
  {
   "cell_type": "code",
   "execution_count": 37,
   "metadata": {},
   "outputs": [
    {
     "name": "stdout",
     "output_type": "stream",
     "text": [
      "1709.8833221598775\n",
      "1797.783044133865\n"
     ]
    }
   ],
   "source": [
    "print(games.pledged.mean())\n",
    "print(comics.pledged.mean())"
   ]
  },
  {
   "cell_type": "code",
   "execution_count": 38,
   "metadata": {},
   "outputs": [
    {
     "name": "stdout",
     "output_type": "stream",
     "text": [
      "1.8161630337603746e-06\n"
     ]
    }
   ],
   "source": [
    "tstat, pval = stats.ttest_ind(games.pledged, comics.pledged)\n",
    "print(pval)"
   ]
  },
  {
   "cell_type": "code",
   "execution_count": 39,
   "metadata": {},
   "outputs": [
    {
     "name": "stdout",
     "output_type": "stream",
     "text": [
      "Safe to reject H0, we can accept H1 because of the sufficient evidence.\n"
     ]
    }
   ],
   "source": [
    "if pval <= 0.05:\n",
    "    print(\"Safe to reject H0, we can accept H1 because of the sufficient evidence.\")\n",
    "elif pval > 0.05:\n",
    "    print(\"Can't reject H0, we can't accept H1 because of the insufficient evidence.\")"
   ]
  },
  {
   "cell_type": "code",
   "execution_count": 40,
   "metadata": {},
   "outputs": [],
   "source": [
    "games_pop = np.random.normal(games.pledged.mean(), games.pledged.std(), 50000)\n",
    "comics_pop = np.random.normal(comics.pledged.mean(), comics.pledged.std(), 50000)"
   ]
  },
  {
   "cell_type": "code",
   "execution_count": 41,
   "metadata": {},
   "outputs": [],
   "source": [
    "ci = stats.norm.interval(0.95, games.pledged.mean(), games.pledged.std())"
   ]
  },
  {
   "cell_type": "code",
   "execution_count": 42,
   "metadata": {},
   "outputs": [
    {
     "data": {
      "text/plain": [
       "<matplotlib.legend.Legend at 0x256c8244d90>"
      ]
     },
     "execution_count": 42,
     "metadata": {},
     "output_type": "execute_result"
    },
    {
     "data": {
      "image/png": "[encoded data removed]",
      "text/plain": [
       "<Figure size 1152x360 with 1 Axes>"
      ]
     },
     "metadata": {
      "needs_background": "light"
     },
     "output_type": "display_data"
    }
   ],
   "source": [
    "plt.figure(figsize=(16,5))\n",
    "plt.hist(games_pop, label='Games', color='blue', alpha=0.7, bins=100)\n",
    "plt.hist(comics_pop, label='Games', color='red', alpha=0.7, bins=100)\n",
    "plt.axvline(games.pledged.mean(), color='blue', linewidth=2, label='games mean')\n",
    "plt.axvline(comics.pledged.mean(), color='red', linewidth=2, label='comics mean')\n",
    "plt.axvline(ci[1], color='green', linestyle='dashed', linewidth=2, label='confidence threshold of 95%')\n",
    "plt.axvline(ci[0], color='green', linestyle='dashed', linewidth=2)\n",
    "plt.axvline(games_pop.mean()+tstat*games_pop.std(), color='black', linestyle='dashed', linewidth=2, label = 'Alternative Hypothesis')\n",
    "plt.axvline(games_pop.mean()-tstat*games_pop.std(), color='black', linestyle='dashed', linewidth=2)\n",
    "plt.legend()"
   ]
  },
  {
   "cell_type": "markdown",
   "metadata": {},
   "source": [
    "#### Chi Square"
   ]
  },
  {
   "cell_type": "markdown",
   "metadata": {},
   "source": [
    "Pada bagian ini akan dilakukan uji hipotesis untuk melihat **apakah kategori mempengaruhi kesuksesan sebuah project** menggunakan chi square dengan significant threshold 0.05.\n",
    "\n",
    "- Null Hypothesis (**H0**): Kategori **tidak mempengaruhi** kesuksesan\n",
    "- Alternative Hypothesis (**H1**): Kategori **mempengaruhi** kesuksesan"
   ]
  },
  {
   "cell_type": "code",
   "execution_count": 50,
   "metadata": {},
   "outputs": [],
   "source": [
    "significant_threshold = 0.05"
   ]
  },
  {
   "cell_type": "markdown",
   "metadata": {},
   "source": [
    "Membuat tabel contingency dari `category` dan `is_successful`."
   ]
  },
  {
   "cell_type": "code",
   "execution_count": 43,
   "metadata": {},
   "outputs": [
    {
     "data": {
      "text/html": [
       "<div>\n",
       "<style scoped>\n",
       "    .dataframe tbody tr th:only-of-type {\n",
       "        vertical-align: middle;\n",
       "    }\n",
       "\n",
       "    .dataframe tbody tr th {\n",
       "        vertical-align: top;\n",
       "    }\n",
       "\n",
       "    .dataframe thead th {\n",
       "        text-align: right;\n",
       "    }\n",
       "</style>\n",
       "<table border=\"1\" class=\"dataframe\">\n",
       "  <thead>\n",
       "    <tr style=\"text-align: right;\">\n",
       "      <th></th>\n",
       "      <th>not_successful</th>\n",
       "      <th>successful</th>\n",
       "    </tr>\n",
       "    <tr>\n",
       "      <th>category</th>\n",
       "      <th></th>\n",
       "      <th></th>\n",
       "    </tr>\n",
       "  </thead>\n",
       "  <tbody>\n",
       "    <tr>\n",
       "      <th>Art</th>\n",
       "      <td>16310</td>\n",
       "      <td>10007</td>\n",
       "    </tr>\n",
       "    <tr>\n",
       "      <th>Comics</th>\n",
       "      <td>4841</td>\n",
       "      <td>4505</td>\n",
       "    </tr>\n",
       "    <tr>\n",
       "      <th>Crafts</th>\n",
       "      <td>6594</td>\n",
       "      <td>1901</td>\n",
       "    </tr>\n",
       "    <tr>\n",
       "      <th>Dance</th>\n",
       "      <td>1403</td>\n",
       "      <td>2078</td>\n",
       "    </tr>\n",
       "    <tr>\n",
       "      <th>Design</th>\n",
       "      <td>17770</td>\n",
       "      <td>4503</td>\n",
       "    </tr>\n",
       "    <tr>\n",
       "      <th>Fashion</th>\n",
       "      <td>16660</td>\n",
       "      <td>3499</td>\n",
       "    </tr>\n",
       "    <tr>\n",
       "      <th>Film &amp; Video</th>\n",
       "      <td>37415</td>\n",
       "      <td>16439</td>\n",
       "    </tr>\n",
       "    <tr>\n",
       "      <th>Food</th>\n",
       "      <td>17961</td>\n",
       "      <td>3399</td>\n",
       "    </tr>\n",
       "    <tr>\n",
       "      <th>Games</th>\n",
       "      <td>21138</td>\n",
       "      <td>6308</td>\n",
       "    </tr>\n",
       "    <tr>\n",
       "      <th>Journalism</th>\n",
       "      <td>3684</td>\n",
       "      <td>773</td>\n",
       "    </tr>\n",
       "    <tr>\n",
       "      <th>Music</th>\n",
       "      <td>24971</td>\n",
       "      <td>19462</td>\n",
       "    </tr>\n",
       "    <tr>\n",
       "      <th>Photography</th>\n",
       "      <td>7352</td>\n",
       "      <td>2508</td>\n",
       "    </tr>\n",
       "    <tr>\n",
       "      <th>Publishing</th>\n",
       "      <td>26561</td>\n",
       "      <td>9780</td>\n",
       "    </tr>\n",
       "    <tr>\n",
       "      <th>Technology</th>\n",
       "      <td>23987</td>\n",
       "      <td>2494</td>\n",
       "    </tr>\n",
       "    <tr>\n",
       "      <th>Theater</th>\n",
       "      <td>4264</td>\n",
       "      <td>5735</td>\n",
       "    </tr>\n",
       "  </tbody>\n",
       "</table>\n",
       "</div>"
      ],
      "text/plain": [
       "              not_successful  successful\n",
       "category                                \n",
       "Art                    16310       10007\n",
       "Comics                  4841        4505\n",
       "Crafts                  6594        1901\n",
       "Dance                   1403        2078\n",
       "Design                 17770        4503\n",
       "Fashion                16660        3499\n",
       "Film & Video           37415       16439\n",
       "Food                   17961        3399\n",
       "Games                  21138        6308\n",
       "Journalism              3684         773\n",
       "Music                  24971       19462\n",
       "Photography             7352        2508\n",
       "Publishing             26561        9780\n",
       "Technology             23987        2494\n",
       "Theater                 4264        5735"
      ]
     },
     "execution_count": 43,
     "metadata": {},
     "output_type": "execute_result"
    }
   ],
   "source": [
    "category_successful = projects_no_outlier.groupby(['category', 'is_successful']).ID.nunique().reset_index().pivot(columns='is_successful', index='category', values='ID').reset_index()\n",
    "category_successful.columns = ['category', 'not_successful', 'successful']\n",
    "category_successful.set_index('category', inplace=True)\n",
    "category_successful"
   ]
  },
  {
   "cell_type": "markdown",
   "metadata": {},
   "source": [
    "Menguji hipotesis menggunakan chi squre dengan menggunakan fungsi dari `scipy.stats` yaitu `chi2_contingency()`."
   ]
  },
  {
   "cell_type": "code",
   "execution_count": 48,
   "metadata": {},
   "outputs": [],
   "source": [
    "chi2, pval, dof, expected = stats.chi2_contingency(category_successful)"
   ]
  },
  {
   "cell_type": "code",
   "execution_count": 49,
   "metadata": {},
   "outputs": [
    {
     "name": "stdout",
     "output_type": "stream",
     "text": [
      "P-value: 0.0000\n"
     ]
    }
   ],
   "source": [
    "print(f'P-value: {pval:.4f}')"
   ]
  },
  {
   "cell_type": "code",
   "execution_count": 51,
   "metadata": {},
   "outputs": [
    {
     "name": "stdout",
     "output_type": "stream",
     "text": [
      "Reject H0\n"
     ]
    }
   ],
   "source": [
    "if pval > significant_threshold:\n",
    "    print('Accept H0')\n",
    "else:\n",
    "    print('Reject H0')"
   ]
  },
  {
   "cell_type": "markdown",
   "metadata": {},
   "source": [
    "Dari hasil uji hipotesis menggunakan chi square ini didapat bahwa **p-value lebih kecil dari significant threshold**."
   ]
  },
  {
   "cell_type": "code",
   "execution_count": null,
   "metadata": {},
   "outputs": [],
   "source": [
    "def diffprop(data):\n",
    "    n1, n2, n3, n4, n5, n6, n7, n8, n9, n10, n11, n12, n13, n14, n15 = data.sum(axis=1)\n",
    "    prop1 = data[0, 0] / n1\n",
    "    prop2 = data[1, 0] / n2\n",
    "    prop3 = data[2, 0] / n3\n",
    "    prop4 = data[3, 0] / n4\n",
    "    prop5 = data[4, 0] / n5\n",
    "    prop6 = data[5, 0] / n6\n",
    "    prop7 = data[6, 0] / n7\n",
    "    prop8 = data[7, 0] / n8\n",
    "    prop9 = data[8, 0] / n9\n",
    "    prop10 = data[9, 0] / n10\n",
    "    prop11 = data[10, 0] / n11\n",
    "    prop12 = data[11, 0] / n12\n",
    "    prop13 = data[12, 0] / n13\n",
    "    prop14 = data[13, 0] / n14\n",
    "    prop15 = data[14, 0] / n15\n",
    "\n",
    "    delta = prop1 - prop2 - prop3 - prop4 - prop5 - prop6 - prop7 - prop8 - prop9 - prop10 - prop11 - prop12 - prop13 - prop14 - prop15\n",
    "\n",
    "    se = np.sqrt(prop1*(1 - prop1)/n1 + prop2*(1 - prop2)/n2 + \n",
    "                 prop3*(1 - prop3)/n3 + prop4*(1 - prop4)/n4 + \n",
    "                 prop5*(1 - prop5)/n5 + prop6*(1 - prop6)/n6 +\n",
    "                 prop7*(1 - prop7)/n7 + prop8*(1 - prop8)/n8 + \n",
    "                 prop9*(1 - prop9)/n9 + prop10*(1 - prop10)/n10 +\n",
    "                 prop11*(1 - prop11)/n11 + prop12*(1 - prop12)/n12 + \n",
    "                 prop13*(1 - prop13)/n13 + prop14*(1 - prop14)/n14 + \n",
    "                 prop15*(1 - prop15)/n15)\n",
    "    "
   ]
  },
  {
   "cell_type": "markdown",
   "metadata": {},
   "source": [
    "## Conclusion"
   ]
  },
  {
   "cell_type": "markdown",
   "metadata": {},
   "source": [
    "Kesimpulan yang dapat ditarik dari hasil uji hipotesis ini adalah:\n",
    "\n",
    "Dengan menggunakan chi square untuk menguji **apakah kategori mempengaruhi kesuksesan sebuah project** menggunakan significant threshold sebesar 0.05 dan membuat hipotesis sebagai berikut:\n",
    "\n",
    "- Null Hypothesis (**H0**): Kategori **tidak mempengaruhi** kesuksesan\n",
    "- Alternative Hypothesis (**H1**): Kategori **mempengaruhi** kesuksesan\n",
    "\n",
    "Didapatkan p-value lebih kecil dari significant threshold, jadi **H0 ditolak** dan **H1 diterima** dimana kategori sebuah project mempengaruhi kesuksesan sebuah project.\n"
   ]
  }
 ],
 "metadata": {
  "interpreter": {
   "hash": "112f40161e87cdf99d798de2b86adf76c0b833717b9d65fa1f256b9c887e27bf"
  },
  "kernelspec": {
   "display_name": "Python 3.9.1 64-bit",
   "language": "python",
   "name": "python3"
  },
  "language_info": {
   "codemirror_mode": {
    "name": "ipython",
    "version": 3
   },
   "file_extension": ".py",
   "mimetype": "text/x-python",
   "name": "python",
   "nbconvert_exporter": "python",
   "pygments_lexer": "ipython3",
   "version": "3.9.1"
  },
  "orig_nbformat": 4
 },
 "nbformat": 4,
 "nbformat_minor": 2
}
